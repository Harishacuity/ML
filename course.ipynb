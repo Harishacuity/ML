{
 "cells": [
  {
   "cell_type": "markdown",
   "id": "d347ce90",
   "metadata": {},
   "source": [
    "![](../images/6-step-ml-framework.png)"
   ]
  },
  {
   "cell_type": "markdown",
   "id": "970ae8a3",
   "metadata": {},
   "source": [
    "![](images/6-step-ml-framework.png)"
   ]
  },
  {
   "cell_type": "markdown",
   "id": "18d34960",
   "metadata": {},
   "source": [
    "## 1. Problem Definition\n",
    "\n",
    "Predict Heart Disease"
   ]
  },
  {
   "cell_type": "code",
   "execution_count": null,
   "id": "c8e33057",
   "metadata": {},
   "outputs": [],
   "source": []
  },
  {
   "cell_type": "code",
   "execution_count": null,
   "id": "1f5dc389",
   "metadata": {},
   "outputs": [],
   "source": []
  },
  {
   "cell_type": "markdown",
   "id": "147c3a8d",
   "metadata": {},
   "source": [
    "## 2. Data"
   ]
  },
  {
   "cell_type": "code",
   "execution_count": null,
   "id": "6af45dc3",
   "metadata": {},
   "outputs": [],
   "source": []
  },
  {
   "cell_type": "code",
   "execution_count": null,
   "id": "180279c7",
   "metadata": {},
   "outputs": [],
   "source": []
  },
  {
   "cell_type": "code",
   "execution_count": null,
   "id": "27bea187",
   "metadata": {},
   "outputs": [],
   "source": []
  }
 ],
 "metadata": {
  "kernelspec": {
   "display_name": "ml",
   "language": "python",
   "name": "ml"
  },
  "language_info": {
   "codemirror_mode": {
    "name": "ipython",
    "version": 3
   },
   "file_extension": ".py",
   "mimetype": "text/x-python",
   "name": "python",
   "nbconvert_exporter": "python",
   "pygments_lexer": "ipython3",
   "version": "3.8.10"
  }
 },
 "nbformat": 4,
 "nbformat_minor": 5
}

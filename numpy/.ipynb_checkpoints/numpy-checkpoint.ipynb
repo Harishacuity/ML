{
 "cells": [
  {
   "cell_type": "code",
   "execution_count": 2,
   "id": "2873fbf9",
   "metadata": {},
   "outputs": [],
   "source": [
    "import numpy as np"
   ]
  },
  {
   "cell_type": "markdown",
   "id": "9c4e2818",
   "metadata": {},
   "source": [
    "## DataTypes and Attributes"
   ]
  },
  {
   "cell_type": "markdown",
   "id": "dc0f5b40",
   "metadata": {},
   "source": [
    "![](../images/numpy.png)"
   ]
  },
  {
   "cell_type": "code",
   "execution_count": 9,
   "id": "c3ed1edf",
   "metadata": {},
   "outputs": [],
   "source": [
    "# a1 = np.ndarray([1,2,3])\n",
    "a1 = np.array([1,2,3])"
   ]
  },
  {
   "cell_type": "code",
   "execution_count": 10,
   "id": "9aa146dc",
   "metadata": {},
   "outputs": [
    {
     "data": {
      "text/plain": [
       "array([1, 2, 3])"
      ]
     },
     "execution_count": 10,
     "metadata": {},
     "output_type": "execute_result"
    }
   ],
   "source": [
    "a1"
   ]
  },
  {
   "cell_type": "code",
   "execution_count": 18,
   "id": "0b786eed",
   "metadata": {},
   "outputs": [],
   "source": [
    "a2 = np.array([[1,2,3],[4,5,6]])"
   ]
  },
  {
   "cell_type": "code",
   "execution_count": 19,
   "id": "9bb43b32",
   "metadata": {},
   "outputs": [
    {
     "data": {
      "text/plain": [
       "array([[1, 2, 3],\n",
       "       [4, 5, 6]])"
      ]
     },
     "execution_count": 19,
     "metadata": {},
     "output_type": "execute_result"
    }
   ],
   "source": [
    "a2"
   ]
  },
  {
   "cell_type": "code",
   "execution_count": 20,
   "id": "419dc471",
   "metadata": {},
   "outputs": [],
   "source": [
    "a3 = np.array([[[1,2,3],[4,5,6],[7,8,9.0]],\n",
    "                [[11,12,13],[14,15,16],[17,18,19.0]]])"
   ]
  },
  {
   "cell_type": "code",
   "execution_count": 21,
   "id": "1ec1ce34",
   "metadata": {},
   "outputs": [
    {
     "data": {
      "text/plain": [
       "array([[[ 1.,  2.,  3.],\n",
       "        [ 4.,  5.,  6.],\n",
       "        [ 7.,  8.,  9.]],\n",
       "\n",
       "       [[11., 12., 13.],\n",
       "        [14., 15., 16.],\n",
       "        [17., 18., 19.]]])"
      ]
     },
     "execution_count": 21,
     "metadata": {},
     "output_type": "execute_result"
    }
   ],
   "source": [
    "a3"
   ]
  },
  {
   "cell_type": "code",
   "execution_count": 22,
   "id": "e6692be6",
   "metadata": {},
   "outputs": [
    {
     "data": {
      "text/plain": [
       "((3,), (2, 3), (2, 3, 3))"
      ]
     },
     "execution_count": 22,
     "metadata": {},
     "output_type": "execute_result"
    }
   ],
   "source": [
    "a1.shape,a2.shape,a3.shape"
   ]
  },
  {
   "cell_type": "code",
   "execution_count": 23,
   "id": "8cad68ba",
   "metadata": {},
   "outputs": [
    {
     "data": {
      "text/plain": [
       "(1, 2, 3)"
      ]
     },
     "execution_count": 23,
     "metadata": {},
     "output_type": "execute_result"
    }
   ],
   "source": [
    "a1.ndim,a2.ndim,a3.ndim"
   ]
  },
  {
   "cell_type": "code",
   "execution_count": 24,
   "id": "e08126ea",
   "metadata": {},
   "outputs": [
    {
     "data": {
      "text/plain": [
       "(dtype('int64'), dtype('int64'), dtype('float64'))"
      ]
     },
     "execution_count": 24,
     "metadata": {},
     "output_type": "execute_result"
    }
   ],
   "source": [
    "a1.dtype,a2.dtype,a3.dtype"
   ]
  },
  {
   "cell_type": "code",
   "execution_count": 26,
   "id": "f4be1b63",
   "metadata": {},
   "outputs": [
    {
     "data": {
      "text/plain": [
       "(3, 6, 18)"
      ]
     },
     "execution_count": 26,
     "metadata": {},
     "output_type": "execute_result"
    }
   ],
   "source": [
    "a1.size,a2.size,a3.size"
   ]
  },
  {
   "cell_type": "code",
   "execution_count": 32,
   "id": "e191b1c0",
   "metadata": {},
   "outputs": [],
   "source": [
    "import pandas as pd\n",
    "df = pd.DataFrame(a2)"
   ]
  },
  {
   "cell_type": "code",
   "execution_count": 33,
   "id": "0f842ab3",
   "metadata": {},
   "outputs": [
    {
     "data": {
      "text/html": [
       "<div>\n",
       "<style scoped>\n",
       "    .dataframe tbody tr th:only-of-type {\n",
       "        vertical-align: middle;\n",
       "    }\n",
       "\n",
       "    .dataframe tbody tr th {\n",
       "        vertical-align: top;\n",
       "    }\n",
       "\n",
       "    .dataframe thead th {\n",
       "        text-align: right;\n",
       "    }\n",
       "</style>\n",
       "<table border=\"1\" class=\"dataframe\">\n",
       "  <thead>\n",
       "    <tr style=\"text-align: right;\">\n",
       "      <th></th>\n",
       "      <th>0</th>\n",
       "      <th>1</th>\n",
       "      <th>2</th>\n",
       "    </tr>\n",
       "  </thead>\n",
       "  <tbody>\n",
       "    <tr>\n",
       "      <th>0</th>\n",
       "      <td>1</td>\n",
       "      <td>2</td>\n",
       "      <td>3</td>\n",
       "    </tr>\n",
       "    <tr>\n",
       "      <th>1</th>\n",
       "      <td>4</td>\n",
       "      <td>5</td>\n",
       "      <td>6</td>\n",
       "    </tr>\n",
       "  </tbody>\n",
       "</table>\n",
       "</div>"
      ],
      "text/plain": [
       "   0  1  2\n",
       "0  1  2  3\n",
       "1  4  5  6"
      ]
     },
     "execution_count": 33,
     "metadata": {},
     "output_type": "execute_result"
    }
   ],
   "source": [
    "df"
   ]
  },
  {
   "cell_type": "code",
   "execution_count": null,
   "id": "16406361",
   "metadata": {},
   "outputs": [],
   "source": []
  },
  {
   "cell_type": "markdown",
   "id": "90de8e14",
   "metadata": {},
   "source": [
    "## V2"
   ]
  },
  {
   "cell_type": "markdown",
   "id": "0b135487",
   "metadata": {},
   "source": [
    "## Create and Random"
   ]
  },
  {
   "cell_type": "code",
   "execution_count": 3,
   "id": "c6100a57",
   "metadata": {},
   "outputs": [],
   "source": [
    "ones = np.ones((2,3))"
   ]
  },
  {
   "cell_type": "code",
   "execution_count": 4,
   "id": "9b30e647",
   "metadata": {},
   "outputs": [
    {
     "data": {
      "text/plain": [
       "array([[1., 1., 1.],\n",
       "       [1., 1., 1.]])"
      ]
     },
     "execution_count": 4,
     "metadata": {},
     "output_type": "execute_result"
    }
   ],
   "source": [
    "ones"
   ]
  },
  {
   "cell_type": "code",
   "execution_count": null,
   "id": "f4fab9d8",
   "metadata": {},
   "outputs": [],
   "source": []
  },
  {
   "cell_type": "code",
   "execution_count": 5,
   "id": "aaec18fb",
   "metadata": {},
   "outputs": [
    {
     "data": {
      "text/plain": [
       "array([[0., 0., 0., 0.],\n",
       "       [0., 0., 0., 0.]])"
      ]
     },
     "execution_count": 5,
     "metadata": {},
     "output_type": "execute_result"
    }
   ],
   "source": [
    "zeros = np.zeros((2,4))\n",
    "zeros"
   ]
  },
  {
   "cell_type": "code",
   "execution_count": null,
   "id": "08ad1844",
   "metadata": {},
   "outputs": [],
   "source": []
  },
  {
   "cell_type": "code",
   "execution_count": 13,
   "id": "d53bb2ce",
   "metadata": {},
   "outputs": [
    {
     "data": {
      "text/plain": [
       "array([ 2,  4,  6,  8, 10, 12, 14, 16, 18])"
      ]
     },
     "execution_count": 13,
     "metadata": {},
     "output_type": "execute_result"
    }
   ],
   "source": [
    "arange = np.arange(2,20,2)\n",
    "arange"
   ]
  },
  {
   "cell_type": "code",
   "execution_count": null,
   "id": "fd52cf7c",
   "metadata": {},
   "outputs": [],
   "source": []
  },
  {
   "cell_type": "code",
   "execution_count": 12,
   "id": "0f71bb4c",
   "metadata": {
    "scrolled": true
   },
   "outputs": [
    {
     "data": {
      "text/plain": [
       "array([[10, 34,  9],\n",
       "       [23, 16, 46],\n",
       "       [ 1, 33, 49]])"
      ]
     },
     "execution_count": 12,
     "metadata": {},
     "output_type": "execute_result"
    }
   ],
   "source": [
    "random = np.random.randint(1, 50, size=(3,3))\n",
    "random"
   ]
  },
  {
   "cell_type": "markdown",
   "id": "939d8c7b",
   "metadata": {},
   "source": []
  },
  {
   "cell_type": "code",
   "execution_count": 16,
   "id": "22b1f0c8",
   "metadata": {},
   "outputs": [
    {
     "data": {
      "text/plain": [
       "array([[0.54604618, 0.74718192, 0.56032394],\n",
       "       [0.03046066, 0.77213349, 0.90094607],\n",
       "       [0.60687536, 0.6555788 , 0.09968846]])"
      ]
     },
     "execution_count": 16,
     "metadata": {},
     "output_type": "execute_result"
    }
   ],
   "source": [
    "random1 = np.random.random((3,3)) #gives array of range 0 to 1\n",
    "random1"
   ]
  },
  {
   "cell_type": "code",
   "execution_count": null,
   "id": "a4f1fdf5",
   "metadata": {},
   "outputs": [],
   "source": []
  },
  {
   "cell_type": "code",
   "execution_count": 21,
   "id": "1c7409e5",
   "metadata": {},
   "outputs": [
    {
     "data": {
      "text/plain": [
       "array([[[[0.85221962, 0.00279553, 0.43226178, 0.77335639],\n",
       "         [0.73388194, 0.85439349, 0.25796784, 0.47206837],\n",
       "         [0.78582212, 0.65739905, 0.20488199, 0.18249439]],\n",
       "\n",
       "        [[0.83942116, 0.52463665, 0.5693719 , 0.12705861],\n",
       "         [0.63720162, 0.98630543, 0.92642002, 0.4724848 ],\n",
       "         [0.18942788, 0.13715231, 0.89304552, 0.86778521]]],\n",
       "\n",
       "\n",
       "       [[[0.74764456, 0.1629515 , 0.63425035, 0.5157586 ],\n",
       "         [0.7566088 , 0.07649448, 0.44790755, 0.58667326],\n",
       "         [0.82255091, 0.82475388, 0.27071571, 0.83900123]],\n",
       "\n",
       "        [[0.07790006, 0.54587572, 0.07147653, 0.08409828],\n",
       "         [0.73052126, 0.78696794, 0.10430454, 0.43559994],\n",
       "         [0.58351177, 0.89868338, 0.27072843, 0.67766207]]]])"
      ]
     },
     "execution_count": 21,
     "metadata": {},
     "output_type": "execute_result"
    }
   ],
   "source": [
    "random2 = np.random.rand(2,2,3,4)\n",
    "random2"
   ]
  },
  {
   "cell_type": "code",
   "execution_count": 23,
   "id": "a2e00786",
   "metadata": {},
   "outputs": [
    {
     "data": {
      "text/plain": [
       "(2, 2, 3, 4)"
      ]
     },
     "execution_count": 23,
     "metadata": {},
     "output_type": "execute_result"
    }
   ],
   "source": [
    "random2.shape"
   ]
  },
  {
   "cell_type": "code",
   "execution_count": 24,
   "id": "70b7304c",
   "metadata": {},
   "outputs": [
    {
     "data": {
      "text/plain": [
       "48"
      ]
     },
     "execution_count": 24,
     "metadata": {},
     "output_type": "execute_result"
    }
   ],
   "source": [
    "random2.size"
   ]
  },
  {
   "cell_type": "code",
   "execution_count": 38,
   "id": "3794b6be",
   "metadata": {},
   "outputs": [
    {
     "data": {
      "text/plain": [
       "array([[38, 44, 13],\n",
       "       [ 9, 10, 12],\n",
       "       [ 6, 16,  1]])"
      ]
     },
     "execution_count": 38,
     "metadata": {},
     "output_type": "execute_result"
    }
   ],
   "source": [
    "#pseudo random number\n",
    "np.random.seed(1)\n",
    "random_seed = np.random.randint(1,50, (3,3))\n",
    "random_seed"
   ]
  },
  {
   "cell_type": "code",
   "execution_count": 45,
   "id": "24698f7c",
   "metadata": {},
   "outputs": [
    {
     "data": {
      "text/plain": [
       "array([[0.4359949 , 0.02592623, 0.54966248],\n",
       "       [0.43532239, 0.4203678 , 0.33033482],\n",
       "       [0.20464863, 0.61927097, 0.29965467]])"
      ]
     },
     "execution_count": 45,
     "metadata": {},
     "output_type": "execute_result"
    }
   ],
   "source": [
    "np.random.seed(2)\n",
    "random_seed1 = np.random.rand(3,3)\n",
    "random_seed1"
   ]
  },
  {
   "cell_type": "code",
   "execution_count": null,
   "id": "a4ba65d0",
   "metadata": {},
   "outputs": [],
   "source": []
  },
  {
   "cell_type": "markdown",
   "id": "955ac7ce",
   "metadata": {},
   "source": [
    "## Viewing arrays and matrices"
   ]
  },
  {
   "cell_type": "code",
   "execution_count": 47,
   "id": "47ff17a0",
   "metadata": {},
   "outputs": [
    {
     "data": {
      "text/plain": [
       "array([ 1,  6,  9, 10, 12, 13, 16, 38, 44])"
      ]
     },
     "execution_count": 47,
     "metadata": {},
     "output_type": "execute_result"
    }
   ],
   "source": [
    "#findin unique\n",
    "np.unique(random_seed)"
   ]
  },
  {
   "cell_type": "code",
   "execution_count": 48,
   "id": "29afd258",
   "metadata": {},
   "outputs": [
    {
     "data": {
      "text/plain": [
       "array([[0.4359949 , 0.02592623, 0.54966248],\n",
       "       [0.43532239, 0.4203678 , 0.33033482],\n",
       "       [0.20464863, 0.61927097, 0.29965467]])"
      ]
     },
     "execution_count": 48,
     "metadata": {},
     "output_type": "execute_result"
    }
   ],
   "source": [
    "np.random.seed(2)\n",
    "a1 = np.random.random((3,3))\n",
    "a1"
   ]
  },
  {
   "cell_type": "code",
   "execution_count": 49,
   "id": "135c4817",
   "metadata": {},
   "outputs": [
    {
     "data": {
      "text/plain": [
       "array([0.4359949 , 0.02592623, 0.54966248])"
      ]
     },
     "execution_count": 49,
     "metadata": {},
     "output_type": "execute_result"
    }
   ],
   "source": [
    "a1[0]"
   ]
  },
  {
   "cell_type": "code",
   "execution_count": 73,
   "id": "4ebee4dd",
   "metadata": {},
   "outputs": [
    {
     "data": {
      "text/plain": [
       "array([[[[9, 4, 9, 9, 1],\n",
       "         [6, 4, 6, 8, 7],\n",
       "         [1, 5, 8, 9, 2],\n",
       "         [7, 3, 3, 2, 4]],\n",
       "\n",
       "        [[6, 9, 2, 9, 8],\n",
       "         [9, 2, 1, 6, 5],\n",
       "         [2, 6, 5, 8, 7],\n",
       "         [1, 1, 3, 5, 6]],\n",
       "\n",
       "        [[9, 9, 8, 6, 2],\n",
       "         [2, 2, 6, 6, 8],\n",
       "         [5, 4, 1, 1, 1],\n",
       "         [1, 3, 3, 8, 1]]],\n",
       "\n",
       "\n",
       "       [[[6, 1, 2, 5, 2],\n",
       "         [3, 3, 5, 9, 1],\n",
       "         [7, 1, 5, 2, 6],\n",
       "         [2, 9, 9, 8, 1]],\n",
       "\n",
       "        [[1, 2, 8, 9, 8],\n",
       "         [5, 1, 1, 5, 4],\n",
       "         [1, 9, 3, 8, 3],\n",
       "         [2, 4, 3, 5, 2]],\n",
       "\n",
       "        [[3, 3, 8, 4, 5],\n",
       "         [2, 7, 8, 2, 1],\n",
       "         [1, 6, 9, 5, 9],\n",
       "         [9, 4, 5, 3, 6]]]])"
      ]
     },
     "execution_count": 73,
     "metadata": {},
     "output_type": "execute_result"
    }
   ],
   "source": [
    "np.random.seed(3)\n",
    "a2 = np.random.randint(1, 10,(2,3,4,5))\n",
    "a2"
   ]
  },
  {
   "cell_type": "code",
   "execution_count": 74,
   "id": "98b83235",
   "metadata": {},
   "outputs": [
    {
     "data": {
      "text/plain": [
       "array([[[9, 4, 9, 9, 1],\n",
       "        [6, 4, 6, 8, 7],\n",
       "        [1, 5, 8, 9, 2],\n",
       "        [7, 3, 3, 2, 4]],\n",
       "\n",
       "       [[6, 9, 2, 9, 8],\n",
       "        [9, 2, 1, 6, 5],\n",
       "        [2, 6, 5, 8, 7],\n",
       "        [1, 1, 3, 5, 6]],\n",
       "\n",
       "       [[9, 9, 8, 6, 2],\n",
       "        [2, 2, 6, 6, 8],\n",
       "        [5, 4, 1, 1, 1],\n",
       "        [1, 3, 3, 8, 1]]])"
      ]
     },
     "execution_count": 74,
     "metadata": {},
     "output_type": "execute_result"
    }
   ],
   "source": [
    "a2[0]"
   ]
  },
  {
   "cell_type": "code",
   "execution_count": 75,
   "id": "4eca48e9",
   "metadata": {},
   "outputs": [
    {
     "data": {
      "text/plain": [
       "4"
      ]
     },
     "execution_count": 75,
     "metadata": {},
     "output_type": "execute_result"
    }
   ],
   "source": [
    "a2.ndim # it is 4-dimensional array"
   ]
  },
  {
   "cell_type": "code",
   "execution_count": 76,
   "id": "54a6918d",
   "metadata": {},
   "outputs": [
    {
     "data": {
      "text/plain": [
       "(2, 3, 4, 5)"
      ]
     },
     "execution_count": 76,
     "metadata": {},
     "output_type": "execute_result"
    }
   ],
   "source": [
    "a2.shape"
   ]
  },
  {
   "cell_type": "code",
   "execution_count": 78,
   "id": "c862ab69",
   "metadata": {},
   "outputs": [
    {
     "data": {
      "text/plain": [
       "array([[[[9, 4, 9],\n",
       "         [6, 4, 6],\n",
       "         [1, 5, 8],\n",
       "         [7, 3, 3]],\n",
       "\n",
       "        [[6, 9, 2],\n",
       "         [9, 2, 1],\n",
       "         [2, 6, 5],\n",
       "         [1, 1, 3]],\n",
       "\n",
       "        [[9, 9, 8],\n",
       "         [2, 2, 6],\n",
       "         [5, 4, 1],\n",
       "         [1, 3, 3]]],\n",
       "\n",
       "\n",
       "       [[[6, 1, 2],\n",
       "         [3, 3, 5],\n",
       "         [7, 1, 5],\n",
       "         [2, 9, 9]],\n",
       "\n",
       "        [[1, 2, 8],\n",
       "         [5, 1, 1],\n",
       "         [1, 9, 3],\n",
       "         [2, 4, 3]],\n",
       "\n",
       "        [[3, 3, 8],\n",
       "         [2, 7, 8],\n",
       "         [1, 6, 9],\n",
       "         [9, 4, 5]]]])"
      ]
     },
     "execution_count": 78,
     "metadata": {},
     "output_type": "execute_result"
    }
   ],
   "source": [
    "#Slicing\n",
    "a2[:,:,:,:3]"
   ]
  },
  {
   "cell_type": "code",
   "execution_count": null,
   "id": "e11eb397",
   "metadata": {},
   "outputs": [],
   "source": []
  },
  {
   "cell_type": "code",
   "execution_count": 68,
   "id": "0b1acc16",
   "metadata": {
    "collapsed": true
   },
   "outputs": [
    {
     "data": {
      "text/plain": [
       "array([[[[0.5507979 , 0.70814782, 0.29090474, 0.51082761, 0.89294695],\n",
       "         [0.89629309, 0.12558531, 0.20724288, 0.0514672 , 0.44080984],\n",
       "         [0.02987621, 0.45683322, 0.64914405, 0.27848728, 0.6762549 ],\n",
       "         [0.59086282, 0.02398188, 0.55885409, 0.25925245, 0.4151012 ]],\n",
       "\n",
       "        [[0.28352508, 0.69313792, 0.44045372, 0.15686774, 0.54464902],\n",
       "         [0.78031476, 0.30636353, 0.22195788, 0.38797126, 0.93638365],\n",
       "         [0.97599542, 0.67238368, 0.90283411, 0.84575087, 0.37799404],\n",
       "         [0.09221701, 0.6534109 , 0.55784076, 0.36156476, 0.2250545 ]],\n",
       "\n",
       "        [[0.40651992, 0.46894025, 0.26923558, 0.29179277, 0.4576864 ],\n",
       "         [0.86053391, 0.5862529 , 0.28348786, 0.27797751, 0.45462208],\n",
       "         [0.20541034, 0.20137871, 0.51403506, 0.08722937, 0.48358553],\n",
       "         [0.36217621, 0.70768662, 0.74674622, 0.69109292, 0.68918041]]],\n",
       "\n",
       "\n",
       "       [[[0.37360012, 0.6681348 , 0.33984866, 0.57279387, 0.32580716],\n",
       "         [0.44514505, 0.06152893, 0.24267542, 0.97160261, 0.2305842 ],\n",
       "         [0.69147751, 0.65047686, 0.72393914, 0.47508861, 0.59666377],\n",
       "         [0.06696942, 0.07256214, 0.19897603, 0.151861  , 0.10010434]],\n",
       "\n",
       "        [[0.12929386, 0.55327773, 0.18781482, 0.95210124, 0.68161178],\n",
       "         [0.54101967, 0.7071806 , 0.26388667, 0.92672568, 0.83919306],\n",
       "         [0.7263195 , 0.48023996, 0.84210319, 0.74475232, 0.66032591],\n",
       "         [0.91397527, 0.63366556, 0.36594058, 0.55284457, 0.19638058]],\n",
       "\n",
       "        [[0.1920723 , 0.72566962, 0.7849367 , 0.97209836, 0.85097142],\n",
       "         [0.54359433, 0.08979087, 0.48887324, 0.92793635, 0.7876182 ],\n",
       "         [0.48509423, 0.45527936, 0.21798577, 0.17721338, 0.07362367],\n",
       "         [0.89239319, 0.64017662, 0.14333232, 0.41412692, 0.04910892]]]])"
      ]
     },
     "execution_count": 68,
     "metadata": {},
     "output_type": "execute_result"
    }
   ],
   "source": [
    "np.random.seed(3)\n",
    "a3 = np.random.rand(2,3,4,5)\n",
    "a3"
   ]
  },
  {
   "cell_type": "code",
   "execution_count": 71,
   "id": "4806d864",
   "metadata": {},
   "outputs": [
    {
     "data": {
      "text/plain": [
       "(3, 4, 5)"
      ]
     },
     "execution_count": 71,
     "metadata": {},
     "output_type": "execute_result"
    }
   ],
   "source": [
    "a3[0].shape"
   ]
  },
  {
   "cell_type": "code",
   "execution_count": 72,
   "id": "b2248a00",
   "metadata": {
    "collapsed": true
   },
   "outputs": [
    {
     "data": {
      "text/plain": [
       "array([[[0.5507979 , 0.70814782, 0.29090474, 0.51082761, 0.89294695],\n",
       "        [0.89629309, 0.12558531, 0.20724288, 0.0514672 , 0.44080984],\n",
       "        [0.02987621, 0.45683322, 0.64914405, 0.27848728, 0.6762549 ],\n",
       "        [0.59086282, 0.02398188, 0.55885409, 0.25925245, 0.4151012 ]],\n",
       "\n",
       "       [[0.28352508, 0.69313792, 0.44045372, 0.15686774, 0.54464902],\n",
       "        [0.78031476, 0.30636353, 0.22195788, 0.38797126, 0.93638365],\n",
       "        [0.97599542, 0.67238368, 0.90283411, 0.84575087, 0.37799404],\n",
       "        [0.09221701, 0.6534109 , 0.55784076, 0.36156476, 0.2250545 ]],\n",
       "\n",
       "       [[0.40651992, 0.46894025, 0.26923558, 0.29179277, 0.4576864 ],\n",
       "        [0.86053391, 0.5862529 , 0.28348786, 0.27797751, 0.45462208],\n",
       "        [0.20541034, 0.20137871, 0.51403506, 0.08722937, 0.48358553],\n",
       "        [0.36217621, 0.70768662, 0.74674622, 0.69109292, 0.68918041]]])"
      ]
     },
     "execution_count": 72,
     "metadata": {},
     "output_type": "execute_result"
    }
   ],
   "source": [
    "a3[0]"
   ]
  },
  {
   "cell_type": "markdown",
   "id": "899540de",
   "metadata": {},
   "source": [
    "## Manipulating and Comparing Arrays"
   ]
  },
  {
   "cell_type": "markdown",
   "id": "c9b6b356",
   "metadata": {},
   "source": [
    "### Doing Arithmatic opertions"
   ]
  },
  {
   "cell_type": "code",
   "execution_count": 99,
   "id": "0d3b750d",
   "metadata": {},
   "outputs": [],
   "source": [
    "a0 =np.array([1,2,3])\n",
    "ones = np.ones(3)"
   ]
  },
  {
   "cell_type": "code",
   "execution_count": 100,
   "id": "5b6ca350",
   "metadata": {},
   "outputs": [
    {
     "data": {
      "text/plain": [
       "(array([1, 2, 3]), array([1., 1., 1.]))"
      ]
     },
     "execution_count": 100,
     "metadata": {},
     "output_type": "execute_result"
    }
   ],
   "source": [
    "a0, ones"
   ]
  },
  {
   "cell_type": "code",
   "execution_count": 101,
   "id": "897f7162",
   "metadata": {},
   "outputs": [
    {
     "data": {
      "text/plain": [
       "array([2., 3., 4.])"
      ]
     },
     "execution_count": 101,
     "metadata": {},
     "output_type": "execute_result"
    }
   ],
   "source": [
    "#add\n",
    "a0+ones"
   ]
  },
  {
   "cell_type": "code",
   "execution_count": 102,
   "id": "40d8aa56",
   "metadata": {},
   "outputs": [
    {
     "data": {
      "text/plain": [
       "array([0., 1., 2.])"
      ]
     },
     "execution_count": 102,
     "metadata": {},
     "output_type": "execute_result"
    }
   ],
   "source": [
    "#sub\n",
    "a0-ones"
   ]
  },
  {
   "cell_type": "code",
   "execution_count": 103,
   "id": "d24d4997",
   "metadata": {},
   "outputs": [
    {
     "data": {
      "text/plain": [
       "array([1., 2., 3.])"
      ]
     },
     "execution_count": 103,
     "metadata": {},
     "output_type": "execute_result"
    }
   ],
   "source": [
    "#Multiply\n",
    "a0*ones"
   ]
  },
  {
   "cell_type": "code",
   "execution_count": 121,
   "id": "f9af0a6b",
   "metadata": {},
   "outputs": [
    {
     "name": "stdout",
     "output_type": "stream",
     "text": [
      "[[8 6 2]\n",
      " [9 8 9]]\n",
      "---------\n",
      "[1 2 3]\n"
     ]
    }
   ],
   "source": [
    "np.random.seed(4)\n",
    "a5 = np.random.randint(1,10,(2,3))\n",
    "a6 = np.random.randint(1,20,(3,3))\n",
    "print(a5)\n",
    "print('---------')\n",
    "print(a0)"
   ]
  },
  {
   "cell_type": "code",
   "execution_count": 115,
   "id": "d2757e76",
   "metadata": {},
   "outputs": [
    {
     "data": {
      "text/plain": [
       "array([[ 8, 12,  6],\n",
       "       [ 9, 16, 27]])"
      ]
     },
     "execution_count": 115,
     "metadata": {},
     "output_type": "execute_result"
    }
   ],
   "source": [
    "a0*a5"
   ]
  },
  {
   "cell_type": "code",
   "execution_count": 122,
   "id": "7275b22b",
   "metadata": {},
   "outputs": [
    {
     "ename": "ValueError",
     "evalue": "operands could not be broadcast together with shapes (2,3) (3,3) ",
     "output_type": "error",
     "traceback": [
      "\u001b[0;31m---------------------------------------------------------------------------\u001b[0m",
      "\u001b[0;31mValueError\u001b[0m                                Traceback (most recent call last)",
      "Cell \u001b[0;32mIn[122], line 1\u001b[0m\n\u001b[0;32m----> 1\u001b[0m \u001b[43ma5\u001b[49m\u001b[43m \u001b[49m\u001b[38;5;241;43m*\u001b[39;49m\u001b[43m \u001b[49m\u001b[43ma6\u001b[49m\n",
      "\u001b[0;31mValueError\u001b[0m: operands could not be broadcast together with shapes (2,3) (3,3) "
     ]
    }
   ],
   "source": [
    "a5 * a6"
   ]
  },
  {
   "cell_type": "code",
   "execution_count": 123,
   "id": "6429e130",
   "metadata": {},
   "outputs": [
    {
     "name": "stdout",
     "output_type": "stream",
     "text": [
      "(2, 3) (3, 3)\n"
     ]
    }
   ],
   "source": [
    "print(a5.shape, a6.shape)"
   ]
  },
  {
   "cell_type": "markdown",
   "id": "2786c1a8",
   "metadata": {},
   "source": [
    "#### Need to reshape the numpy"
   ]
  },
  {
   "cell_type": "code",
   "execution_count": 161,
   "id": "9b4ad998",
   "metadata": {},
   "outputs": [
    {
     "data": {
      "text/plain": [
       "array([[8, 6, 2],\n",
       "       [9, 8, 9]])"
      ]
     },
     "execution_count": 161,
     "metadata": {},
     "output_type": "execute_result"
    }
   ],
   "source": [
    "a5"
   ]
  },
  {
   "cell_type": "code",
   "execution_count": 162,
   "id": "6dea1dd2",
   "metadata": {},
   "outputs": [],
   "source": [
    "a5 = np.vstack((a5,a0))"
   ]
  },
  {
   "cell_type": "code",
   "execution_count": 164,
   "id": "468d7c36",
   "metadata": {},
   "outputs": [
    {
     "data": {
      "text/plain": [
       "((3, 3), (3, 3))"
      ]
     },
     "execution_count": 164,
     "metadata": {},
     "output_type": "execute_result"
    }
   ],
   "source": [
    "a5.shape, a6.shape"
   ]
  },
  {
   "cell_type": "code",
   "execution_count": 165,
   "id": "881aea78",
   "metadata": {},
   "outputs": [
    {
     "data": {
      "text/plain": [
       "array([[152,  60,  16],\n",
       "       [126,  72,  45],\n",
       "       [ 19,  26,  21]])"
      ]
     },
     "execution_count": 165,
     "metadata": {},
     "output_type": "execute_result"
    }
   ],
   "source": [
    "a5*a6"
   ]
  },
  {
   "cell_type": "code",
   "execution_count": 166,
   "id": "48fcd864",
   "metadata": {},
   "outputs": [
    {
     "data": {
      "text/plain": [
       "array([[8.        , 3.        , 0.66666667],\n",
       "       [9.        , 4.        , 3.        ],\n",
       "       [1.        , 1.        , 1.        ]])"
      ]
     },
     "execution_count": 166,
     "metadata": {},
     "output_type": "execute_result"
    }
   ],
   "source": [
    "#divide\n",
    "a5/a0"
   ]
  },
  {
   "cell_type": "code",
   "execution_count": 167,
   "id": "056d3f2d",
   "metadata": {},
   "outputs": [
    {
     "data": {
      "text/plain": [
       "array([[8, 3, 0],\n",
       "       [9, 4, 3],\n",
       "       [1, 1, 1]])"
      ]
     },
     "execution_count": 167,
     "metadata": {},
     "output_type": "execute_result"
    }
   ],
   "source": [
    "#floor divide\n",
    "a5//a0"
   ]
  },
  {
   "cell_type": "code",
   "execution_count": 168,
   "id": "b361e644",
   "metadata": {},
   "outputs": [
    {
     "data": {
      "text/plain": [
       "array([[0, 0, 2],\n",
       "       [0, 0, 0],\n",
       "       [0, 0, 0]])"
      ]
     },
     "execution_count": 168,
     "metadata": {},
     "output_type": "execute_result"
    }
   ],
   "source": [
    "#modulo - remainder\n",
    "a5%a0"
   ]
  },
  {
   "cell_type": "code",
   "execution_count": 169,
   "id": "fb1b04e5",
   "metadata": {},
   "outputs": [
    {
     "data": {
      "text/plain": [
       "array([[2.07944154, 1.79175947, 0.69314718],\n",
       "       [2.19722458, 2.07944154, 2.19722458],\n",
       "       [0.        , 0.69314718, 1.09861229]])"
      ]
     },
     "execution_count": 169,
     "metadata": {},
     "output_type": "execute_result"
    }
   ],
   "source": [
    "\n",
    "np.log(a5)"
   ]
  },
  {
   "cell_type": "code",
   "execution_count": 170,
   "id": "9ccd99a9",
   "metadata": {},
   "outputs": [
    {
     "data": {
      "text/plain": [
       "array([[2.98095799e+03, 4.03428793e+02, 7.38905610e+00],\n",
       "       [8.10308393e+03, 2.98095799e+03, 8.10308393e+03],\n",
       "       [2.71828183e+00, 7.38905610e+00, 2.00855369e+01]])"
      ]
     },
     "execution_count": 170,
     "metadata": {},
     "output_type": "execute_result"
    }
   ],
   "source": [
    "np.exp(a5)"
   ]
  },
  {
   "cell_type": "code",
   "execution_count": null,
   "id": "ea35a05b",
   "metadata": {},
   "outputs": [],
   "source": []
  },
  {
   "cell_type": "code",
   "execution_count": null,
   "id": "cc0af018",
   "metadata": {},
   "outputs": [],
   "source": []
  },
  {
   "cell_type": "markdown",
   "id": "1a523b20",
   "metadata": {},
   "source": [
    "## Aggregation\n",
    "Performing the same operations on number of things"
   ]
  },
  {
   "cell_type": "code",
   "execution_count": 1,
   "id": "76e51244",
   "metadata": {},
   "outputs": [
    {
     "data": {
      "text/plain": [
       "10"
      ]
     },
     "execution_count": 1,
     "metadata": {},
     "output_type": "execute_result"
    }
   ],
   "source": [
    "listy = [1,2,3,4]\n",
    "sum(listy)"
   ]
  },
  {
   "cell_type": "code",
   "execution_count": 2,
   "id": "b58c1a00",
   "metadata": {},
   "outputs": [
    {
     "data": {
      "text/plain": [
       "array([1, 2, 3, 4])"
      ]
     },
     "execution_count": 2,
     "metadata": {},
     "output_type": "execute_result"
    }
   ],
   "source": [
    "import numpy as np\n",
    "a1 = np.array(listy)\n",
    "a1"
   ]
  },
  {
   "cell_type": "code",
   "execution_count": 3,
   "id": "a07261c6",
   "metadata": {},
   "outputs": [
    {
     "data": {
      "text/plain": [
       "10"
      ]
     },
     "execution_count": 3,
     "metadata": {},
     "output_type": "execute_result"
    }
   ],
   "source": [
    "sum(a1)"
   ]
  },
  {
   "cell_type": "code",
   "execution_count": 4,
   "id": "fc9f064a",
   "metadata": {},
   "outputs": [
    {
     "data": {
      "text/plain": [
       "10"
      ]
     },
     "execution_count": 4,
     "metadata": {},
     "output_type": "execute_result"
    }
   ],
   "source": [
    "np.sum(a1)"
   ]
  },
  {
   "cell_type": "markdown",
   "id": "89a5bed6",
   "metadata": {},
   "source": [
    "use `sum()` for python types\n",
    "\n",
    "use `np.sum()` for NumPy types"
   ]
  },
  {
   "cell_type": "code",
   "execution_count": 5,
   "id": "032aaec0",
   "metadata": {},
   "outputs": [
    {
     "data": {
      "text/plain": [
       "(100000,)"
      ]
     },
     "execution_count": 5,
     "metadata": {},
     "output_type": "execute_result"
    }
   ],
   "source": [
    "massive_array = np.random.random(100000)\n",
    "massive_array.shape\n"
   ]
  },
  {
   "cell_type": "code",
   "execution_count": 6,
   "id": "002b8d3d",
   "metadata": {},
   "outputs": [
    {
     "data": {
      "text/plain": [
       "array([0.23723518, 0.19462649, 0.35370297, 0.99452625, 0.92863277,\n",
       "       0.73380742, 0.1116793 , 0.9701634 , 0.79528834, 0.68829333,\n",
       "       0.64370168, 0.9398237 , 0.07864314, 0.29034597, 0.86488897,\n",
       "       0.80242779, 0.93249969, 0.24127791, 0.67814698, 0.25398118,\n",
       "       0.42963318, 0.77483371, 0.80152841, 0.04351279, 0.13865375,\n",
       "       0.4611621 , 0.8044865 , 0.9341962 , 0.55390207, 0.86013373,\n",
       "       0.07668203, 0.15783596, 0.74124304, 0.24627529, 0.62189356,\n",
       "       0.96118488, 0.83591013, 0.86501982, 0.45526981, 0.74558553,\n",
       "       0.29113457, 0.75565809, 0.38492932, 0.74433829, 0.77269264,\n",
       "       0.65752193, 0.19705846, 0.30715158, 0.61610555, 0.47410088,\n",
       "       0.44380652, 0.52261767, 0.75765946, 0.70534791, 0.71777039,\n",
       "       0.07429233, 0.33486835, 0.75873757, 0.39856558, 0.33902642,\n",
       "       0.32680845, 0.73114073, 0.63459447, 0.91645851, 0.01577275,\n",
       "       0.37829452, 0.59602234, 0.01253275, 0.39155628, 0.4967394 ,\n",
       "       0.8076174 , 0.48718469, 0.65755424, 0.56990048, 0.07986204,\n",
       "       0.58763796, 0.44980609, 0.36323144, 0.55339565, 0.31472037,\n",
       "       0.75008076, 0.78489282, 0.50597598, 0.96401825, 0.98104647,\n",
       "       0.148659  , 0.38373914, 0.25865845, 0.76769737, 0.31529759,\n",
       "       0.0700189 , 0.59894652, 0.26024185, 0.19316456, 0.85174619,\n",
       "       0.89915551, 0.50186141, 0.80266654, 0.00956216, 0.10684282])"
      ]
     },
     "execution_count": 6,
     "metadata": {},
     "output_type": "execute_result"
    }
   ],
   "source": [
    "massive_array[:100]"
   ]
  },
  {
   "cell_type": "code",
   "execution_count": 7,
   "id": "c354f090",
   "metadata": {},
   "outputs": [
    {
     "name": "stdout",
     "output_type": "stream",
     "text": [
      "6.79 ms ± 150 µs per loop (mean ± std. dev. of 7 runs, 100 loops each)\n",
      "21.8 µs ± 355 ns per loop (mean ± std. dev. of 7 runs, 10,000 loops each)\n"
     ]
    }
   ],
   "source": [
    "%timeit sum(massive_array)\n",
    "%timeit np.sum(massive_array)"
   ]
  },
  {
   "cell_type": "code",
   "execution_count": 8,
   "id": "92f04a72",
   "metadata": {},
   "outputs": [
    {
     "data": {
      "text/plain": [
       "331.8181818181818"
      ]
     },
     "execution_count": 8,
     "metadata": {},
     "output_type": "execute_result"
    }
   ],
   "source": [
    " 7300/22"
   ]
  },
  {
   "cell_type": "code",
   "execution_count": 9,
   "id": "2b961368",
   "metadata": {},
   "outputs": [],
   "source": [
    "a2 = np.array([[1,2,3],[4,5,6]])"
   ]
  },
  {
   "cell_type": "code",
   "execution_count": 10,
   "id": "24a6d0f8",
   "metadata": {},
   "outputs": [
    {
     "data": {
      "text/plain": [
       "3.5"
      ]
     },
     "execution_count": 10,
     "metadata": {},
     "output_type": "execute_result"
    }
   ],
   "source": [
    "np.mean(a2)"
   ]
  },
  {
   "cell_type": "code",
   "execution_count": 11,
   "id": "28190ba6",
   "metadata": {},
   "outputs": [
    {
     "data": {
      "text/plain": [
       "6"
      ]
     },
     "execution_count": 11,
     "metadata": {},
     "output_type": "execute_result"
    }
   ],
   "source": [
    "np.max(a2)"
   ]
  },
  {
   "cell_type": "code",
   "execution_count": 12,
   "id": "cd186d49",
   "metadata": {},
   "outputs": [
    {
     "data": {
      "text/plain": [
       "1"
      ]
     },
     "execution_count": 12,
     "metadata": {},
     "output_type": "execute_result"
    }
   ],
   "source": [
    "np.min(a2)"
   ]
  },
  {
   "cell_type": "code",
   "execution_count": 13,
   "id": "ff22b901",
   "metadata": {},
   "outputs": [
    {
     "data": {
      "text/plain": [
       "1.707825127659933"
      ]
     },
     "execution_count": 13,
     "metadata": {},
     "output_type": "execute_result"
    }
   ],
   "source": [
    "np.std(a2)"
   ]
  },
  {
   "cell_type": "code",
   "execution_count": 14,
   "id": "74f65088",
   "metadata": {},
   "outputs": [
    {
     "data": {
      "text/plain": [
       "2.9166666666666665"
      ]
     },
     "execution_count": 14,
     "metadata": {},
     "output_type": "execute_result"
    }
   ],
   "source": [
    "np.var(a2)"
   ]
  },
  {
   "cell_type": "code",
   "execution_count": 15,
   "id": "5547d4d2",
   "metadata": {},
   "outputs": [
    {
     "data": {
      "text/plain": [
       "1.707825127659933"
      ]
     },
     "execution_count": 15,
     "metadata": {},
     "output_type": "execute_result"
    }
   ],
   "source": [
    "np.sqrt(np.var(a2))"
   ]
  },
  {
   "cell_type": "markdown",
   "id": "35107fbf",
   "metadata": {},
   "source": [
    "## Standard Deviation and Varience\n",
    "Std - A measure of how spreadout a group of number is from mean\n",
    "\n",
    "var - It is a measure of average degree to which each number is different to the mean"
   ]
  },
  {
   "cell_type": "code",
   "execution_count": 17,
   "id": "ddcf28fc",
   "metadata": {},
   "outputs": [],
   "source": [
    "hv = np.array([100,200,4000,7000, 100000])\n",
    "lv = np.array([2,4,6,9,12])\n"
   ]
  },
  {
   "cell_type": "code",
   "execution_count": 18,
   "id": "4d53fbcd",
   "metadata": {},
   "outputs": [
    {
     "data": {
      "text/plain": [
       "(38955.13316624652, 3.555277766926235)"
      ]
     },
     "execution_count": 18,
     "metadata": {},
     "output_type": "execute_result"
    }
   ],
   "source": [
    "np.std(hv), np.std(lv)"
   ]
  },
  {
   "cell_type": "code",
   "execution_count": 19,
   "id": "704d9b9a",
   "metadata": {},
   "outputs": [
    {
     "data": {
      "text/plain": [
       "(1517502400.0, 12.639999999999999)"
      ]
     },
     "execution_count": 19,
     "metadata": {},
     "output_type": "execute_result"
    }
   ],
   "source": [
    "np.var(hv), np.var(lv)"
   ]
  },
  {
   "cell_type": "code",
   "execution_count": 20,
   "id": "6ff446ae",
   "metadata": {},
   "outputs": [
    {
     "data": {
      "text/plain": [
       "(22260.0, 6.6)"
      ]
     },
     "execution_count": 20,
     "metadata": {},
     "output_type": "execute_result"
    }
   ],
   "source": [
    "np.mean(hv), np.mean(lv)"
   ]
  },
  {
   "cell_type": "code",
   "execution_count": 22,
   "id": "98edc22d",
   "metadata": {},
   "outputs": [
    {
     "data": {
      "image/png": "[encoded data removed]",
      "text/plain": [
       "<Figure size 640x480 with 1 Axes>"
      ]
     },
     "metadata": {},
     "output_type": "display_data"
    }
   ],
   "source": [
    "import matplotlib.pyplot as plt\n",
    "plt.hist(hv)\n",
    "plt.show()"
   ]
  },
  {
   "cell_type": "code",
   "execution_count": 23,
   "id": "7a39bd17",
   "metadata": {},
   "outputs": [
    {
     "data": {
      "image/png": "[encoded data removed]",
      "text/plain": [
       "<Figure size 640x480 with 1 Axes>"
      ]
     },
     "metadata": {},
     "output_type": "display_data"
    }
   ],
   "source": [
    "plt.hist(lv)\n",
    "plt.show()"
   ]
  },
  {
   "cell_type": "markdown",
   "id": "67a7ac80",
   "metadata": {},
   "source": [
    "## Reshape and Transpose "
   ]
  },
  {
   "cell_type": "code",
   "execution_count": 25,
   "id": "89309773",
   "metadata": {},
   "outputs": [],
   "source": [
    "a1 = np.random.rand(2,3,3)"
   ]
  },
  {
   "cell_type": "code",
   "execution_count": 38,
   "id": "ef228f93",
   "metadata": {},
   "outputs": [],
   "source": [
    "a2 = np.random.randint(1,30, (2,3))"
   ]
  },
  {
   "cell_type": "code",
   "execution_count": 39,
   "id": "20d1f546",
   "metadata": {},
   "outputs": [
    {
     "data": {
      "text/plain": [
       "array([[20, 26, 15],\n",
       "       [23,  8, 10]])"
      ]
     },
     "execution_count": 39,
     "metadata": {},
     "output_type": "execute_result"
    }
   ],
   "source": [
    "a2"
   ]
  },
  {
   "cell_type": "code",
   "execution_count": 32,
   "id": "faf33888",
   "metadata": {},
   "outputs": [
    {
     "ename": "ValueError",
     "evalue": "operands could not be broadcast together with shapes (2,3) (2,3,3) ",
     "output_type": "error",
     "traceback": [
      "\u001b[0;31m---------------------------------------------------------------------------\u001b[0m",
      "\u001b[0;31mValueError\u001b[0m                                Traceback (most recent call last)",
      "Cell \u001b[0;32mIn[32], line 1\u001b[0m\n\u001b[0;32m----> 1\u001b[0m \u001b[43ma2\u001b[49m\u001b[38;5;241;43m*\u001b[39;49m\u001b[43ma1\u001b[49m\n",
      "\u001b[0;31mValueError\u001b[0m: operands could not be broadcast together with shapes (2,3) (2,3,3) "
     ]
    }
   ],
   "source": [
    "a2*a1"
   ]
  },
  {
   "cell_type": "code",
   "execution_count": 44,
   "id": "f593e150",
   "metadata": {},
   "outputs": [],
   "source": [
    "a2_reshape = a2.reshape(2,3,1)\n"
   ]
  },
  {
   "cell_type": "code",
   "execution_count": 48,
   "id": "8614a751",
   "metadata": {},
   "outputs": [
    {
     "data": {
      "text/plain": [
       "(2, 3, 1)"
      ]
     },
     "execution_count": 48,
     "metadata": {},
     "output_type": "execute_result"
    }
   ],
   "source": [
    "a2_reshape.shape"
   ]
  },
  {
   "cell_type": "code",
   "execution_count": 47,
   "id": "d20fd768",
   "metadata": {},
   "outputs": [
    {
     "data": {
      "text/plain": [
       "array([[[ 9.77133434, 10.40708147, 19.87611003],\n",
       "        [ 6.33129389, 21.3337195 , 21.67137231],\n",
       "        [13.54110173, 10.0297072 ,  4.48869504]],\n",
       "\n",
       "       [[ 7.22406386, 12.99421836, 17.75846575],\n",
       "        [ 2.14138801,  0.15649492,  2.43004638],\n",
       "        [ 4.86828693,  7.1427197 ,  9.40557467]]])"
      ]
     },
     "execution_count": 47,
     "metadata": {},
     "output_type": "execute_result"
    }
   ],
   "source": [
    "a2_reshape*a1"
   ]
  },
  {
   "cell_type": "code",
   "execution_count": 49,
   "id": "835db902",
   "metadata": {},
   "outputs": [
    {
     "data": {
      "text/plain": [
       "array([[[20, 23],\n",
       "        [26,  8],\n",
       "        [15, 10]]])"
      ]
     },
     "execution_count": 49,
     "metadata": {},
     "output_type": "execute_result"
    }
   ],
   "source": [
    "a2_reshape.T"
   ]
  },
  {
   "cell_type": "code",
   "execution_count": 50,
   "id": "1abed264",
   "metadata": {},
   "outputs": [
    {
     "data": {
      "text/plain": [
       "(1, 3, 2)"
      ]
     },
     "execution_count": 50,
     "metadata": {},
     "output_type": "execute_result"
    }
   ],
   "source": [
    "a2_reshape.T.shape"
   ]
  },
  {
   "cell_type": "code",
   "execution_count": null,
   "id": "f266b7b8",
   "metadata": {},
   "outputs": [],
   "source": []
  },
  {
   "cell_type": "code",
   "execution_count": null,
   "id": "295b1904",
   "metadata": {},
   "outputs": [],
   "source": []
  },
  {
   "cell_type": "markdown",
   "id": "b8599904",
   "metadata": {},
   "source": [
    "## Dot and Element wise"
   ]
  },
  {
   "cell_type": "code",
   "execution_count": 54,
   "id": "9a820e88",
   "metadata": {},
   "outputs": [],
   "source": [
    "a1 = np.random.randint(1, 20, (3,5))"
   ]
  },
  {
   "cell_type": "code",
   "execution_count": 55,
   "id": "154c370e",
   "metadata": {},
   "outputs": [
    {
     "data": {
      "text/plain": [
       "array([[ 3, 18, 19, 10,  7],\n",
       "       [14,  2,  2,  7,  3],\n",
       "       [ 5, 10, 15, 19,  4]])"
      ]
     },
     "execution_count": 55,
     "metadata": {},
     "output_type": "execute_result"
    }
   ],
   "source": [
    "a1"
   ]
  },
  {
   "cell_type": "code",
   "execution_count": 56,
   "id": "29307a17",
   "metadata": {},
   "outputs": [],
   "source": [
    "a2 = np.random.rand(3,5)"
   ]
  },
  {
   "cell_type": "code",
   "execution_count": 57,
   "id": "25e1c384",
   "metadata": {},
   "outputs": [
    {
     "data": {
      "text/plain": [
       "array([[0.48781573, 0.57888927, 0.92109472, 0.01305022, 0.54924848],\n",
       "       [0.61160544, 0.77812068, 0.31354342, 0.62351369, 0.31822294],\n",
       "       [0.74163346, 0.42062408, 0.63832934, 0.82263036, 0.05035426]])"
      ]
     },
     "execution_count": 57,
     "metadata": {},
     "output_type": "execute_result"
    }
   ],
   "source": [
    "a2"
   ]
  },
  {
   "cell_type": "code",
   "execution_count": 58,
   "id": "fdbc54d1",
   "metadata": {},
   "outputs": [],
   "source": [
    "a3_ele = a1*a2"
   ]
  },
  {
   "cell_type": "code",
   "execution_count": 59,
   "id": "39fa92de",
   "metadata": {},
   "outputs": [
    {
     "data": {
      "text/plain": [
       "array([[ 1.46344719, 10.42000694, 17.50079964,  0.13050225,  3.84473937],\n",
       "       [ 8.56247622,  1.55624137,  0.62708685,  4.36459581,  0.95466883],\n",
       "       [ 3.70816729,  4.20624076,  9.57494014, 15.62997692,  0.20141706]])"
      ]
     },
     "execution_count": 59,
     "metadata": {},
     "output_type": "execute_result"
    }
   ],
   "source": [
    "a3_ele"
   ]
  },
  {
   "cell_type": "code",
   "execution_count": 60,
   "id": "c5de7fd3",
   "metadata": {},
   "outputs": [
    {
     "ename": "ValueError",
     "evalue": "shapes (3,5) and (3,5) not aligned: 5 (dim 1) != 3 (dim 0)",
     "output_type": "error",
     "traceback": [
      "\u001b[0;31m---------------------------------------------------------------------------\u001b[0m",
      "\u001b[0;31mValueError\u001b[0m                                Traceback (most recent call last)",
      "Cell \u001b[0;32mIn[60], line 1\u001b[0m\n\u001b[0;32m----> 1\u001b[0m a3_dot \u001b[38;5;241m=\u001b[39m \u001b[43mnp\u001b[49m\u001b[38;5;241;43m.\u001b[39;49m\u001b[43mdot\u001b[49m\u001b[43m(\u001b[49m\u001b[43ma1\u001b[49m\u001b[43m,\u001b[49m\u001b[43ma2\u001b[49m\u001b[43m)\u001b[49m\n",
      "File \u001b[0;32m<__array_function__ internals>:180\u001b[0m, in \u001b[0;36mdot\u001b[0;34m(*args, **kwargs)\u001b[0m\n",
      "\u001b[0;31mValueError\u001b[0m: shapes (3,5) and (3,5) not aligned: 5 (dim 1) != 3 (dim 0)"
     ]
    }
   ],
   "source": [
    "a3_dot = np.dot(a1,a2)"
   ]
  },
  {
   "cell_type": "code",
   "execution_count": 62,
   "id": "e330fa34",
   "metadata": {},
   "outputs": [
    {
     "data": {
      "text/plain": [
       "((3, 5), (3, 5))"
      ]
     },
     "execution_count": 62,
     "metadata": {},
     "output_type": "execute_result"
    }
   ],
   "source": [
    "a1.shape, a2.shape\n"
   ]
  },
  {
   "cell_type": "code",
   "execution_count": 63,
   "id": "e9cb33e7",
   "metadata": {},
   "outputs": [
    {
     "data": {
      "text/plain": [
       "array([[0.48781573, 0.61160544, 0.74163346],\n",
       "       [0.57888927, 0.77812068, 0.42062408],\n",
       "       [0.92109472, 0.31354342, 0.63832934],\n",
       "       [0.01305022, 0.62351369, 0.82263036],\n",
       "       [0.54924848, 0.31822294, 0.05035426]])"
      ]
     },
     "execution_count": 63,
     "metadata": {},
     "output_type": "execute_result"
    }
   ],
   "source": [
    "#change the shape of a2\n",
    "a2.T"
   ]
  },
  {
   "cell_type": "code",
   "execution_count": null,
   "id": "26d2f39b",
   "metadata": {},
   "outputs": [],
   "source": []
  },
  {
   "cell_type": "code",
   "execution_count": 64,
   "id": "1e5deb5a",
   "metadata": {},
   "outputs": [],
   "source": [
    "a3_dot = np.dot(a1,a2.T)"
   ]
  },
  {
   "cell_type": "code",
   "execution_count": 65,
   "id": "c9587b04",
   "metadata": {},
   "outputs": [
    {
     "data": {
      "text/plain": [
       "array([[33.35949539, 30.26101117, 30.50317474],\n",
       "       [11.5684852 , 16.06506908, 18.4102506 ],\n",
       "       [24.48934036, 28.66203725, 33.32074216]])"
      ]
     },
     "execution_count": 65,
     "metadata": {},
     "output_type": "execute_result"
    }
   ],
   "source": [
    "a3_dot"
   ]
  },
  {
   "cell_type": "code",
   "execution_count": null,
   "id": "2c184d59",
   "metadata": {},
   "outputs": [],
   "source": []
  },
  {
   "cell_type": "markdown",
   "id": "238dbfe3",
   "metadata": {},
   "source": [
    "## Butter Nut sales"
   ]
  },
  {
   "cell_type": "code",
   "execution_count": 70,
   "id": "484b0da0",
   "metadata": {},
   "outputs": [
    {
     "data": {
      "text/plain": [
       "array([[15,  6,  2],\n",
       "       [ 9,  9, 19],\n",
       "       [10,  8, 14],\n",
       "       [ 9,  5, 19],\n",
       "       [13,  7, 11]])"
      ]
     },
     "execution_count": 70,
     "metadata": {},
     "output_type": "execute_result"
    }
   ],
   "source": [
    "np.random.seed(4)\n",
    "sales_np = np.random.randint(1,20,(5,3))\n",
    "sales_np"
   ]
  },
  {
   "cell_type": "code",
   "execution_count": 95,
   "id": "5451b40b",
   "metadata": {},
   "outputs": [
    {
     "data": {
      "text/html": [
       "<div>\n",
       "<style scoped>\n",
       "    .dataframe tbody tr th:only-of-type {\n",
       "        vertical-align: middle;\n",
       "    }\n",
       "\n",
       "    .dataframe tbody tr th {\n",
       "        vertical-align: top;\n",
       "    }\n",
       "\n",
       "    .dataframe thead th {\n",
       "        text-align: right;\n",
       "    }\n",
       "</style>\n",
       "<table border=\"1\" class=\"dataframe\">\n",
       "  <thead>\n",
       "    <tr style=\"text-align: right;\">\n",
       "      <th></th>\n",
       "      <th>Almond Butter</th>\n",
       "      <th>Peanut Butter</th>\n",
       "      <th>Cashew Butter</th>\n",
       "    </tr>\n",
       "  </thead>\n",
       "  <tbody>\n",
       "    <tr>\n",
       "      <th>mon</th>\n",
       "      <td>15</td>\n",
       "      <td>6</td>\n",
       "      <td>2</td>\n",
       "    </tr>\n",
       "    <tr>\n",
       "      <th>tue</th>\n",
       "      <td>9</td>\n",
       "      <td>9</td>\n",
       "      <td>19</td>\n",
       "    </tr>\n",
       "    <tr>\n",
       "      <th>wed</th>\n",
       "      <td>10</td>\n",
       "      <td>8</td>\n",
       "      <td>14</td>\n",
       "    </tr>\n",
       "    <tr>\n",
       "      <th>thur</th>\n",
       "      <td>9</td>\n",
       "      <td>5</td>\n",
       "      <td>19</td>\n",
       "    </tr>\n",
       "    <tr>\n",
       "      <th>fri</th>\n",
       "      <td>13</td>\n",
       "      <td>7</td>\n",
       "      <td>11</td>\n",
       "    </tr>\n",
       "  </tbody>\n",
       "</table>\n",
       "</div>"
      ],
      "text/plain": [
       "      Almond Butter  Peanut Butter  Cashew Butter\n",
       "mon              15              6              2\n",
       "tue               9              9             19\n",
       "wed              10              8             14\n",
       "thur              9              5             19\n",
       "fri              13              7             11"
      ]
     },
     "execution_count": 95,
     "metadata": {},
     "output_type": "execute_result"
    }
   ],
   "source": [
    "import pandas as pd\n",
    "sales = pd.DataFrame(sales_np, index=['mon','tue', 'wed', 'thur', 'fri'],\n",
    "                    columns=['Almond Butter', 'Peanut Butter', 'Cashew Butter'])\n",
    "sales"
   ]
  },
  {
   "cell_type": "code",
   "execution_count": 77,
   "id": "c9452eee",
   "metadata": {
    "scrolled": true
   },
   "outputs": [
    {
     "ename": "ValueError",
     "evalue": "Shape of passed values is (3, 1), indices imply (1, 3)",
     "output_type": "error",
     "traceback": [
      "\u001b[0;31m---------------------------------------------------------------------------\u001b[0m",
      "\u001b[0;31mValueError\u001b[0m                                Traceback (most recent call last)",
      "Cell \u001b[0;32mIn[77], line 2\u001b[0m\n\u001b[1;32m      1\u001b[0m price_np \u001b[38;5;241m=\u001b[39m np\u001b[38;5;241m.\u001b[39marray([\u001b[38;5;241m10\u001b[39m,\u001b[38;5;241m8\u001b[39m,\u001b[38;5;241m14\u001b[39m])\n\u001b[0;32m----> 2\u001b[0m price  \u001b[38;5;241m=\u001b[39m \u001b[43mpd\u001b[49m\u001b[38;5;241;43m.\u001b[39;49m\u001b[43mDataFrame\u001b[49m\u001b[43m(\u001b[49m\u001b[43mprice_np\u001b[49m\u001b[43m,\u001b[49m\u001b[43mindex\u001b[49m\u001b[43m \u001b[49m\u001b[38;5;241;43m=\u001b[39;49m\u001b[43m \u001b[49m\u001b[43m[\u001b[49m\u001b[38;5;124;43m'\u001b[39;49m\u001b[38;5;124;43mprice\u001b[39;49m\u001b[38;5;124;43m'\u001b[39;49m\u001b[43m]\u001b[49m\u001b[43m,\u001b[49m\u001b[43m \u001b[49m\u001b[43mcolumns\u001b[49m\u001b[38;5;241;43m=\u001b[39;49m\u001b[43m[\u001b[49m\u001b[38;5;124;43m'\u001b[39;49m\u001b[38;5;124;43mAlmond Butter\u001b[39;49m\u001b[38;5;124;43m'\u001b[39;49m\u001b[43m,\u001b[49m\u001b[43m \u001b[49m\u001b[38;5;124;43m'\u001b[39;49m\u001b[38;5;124;43mPeanut Butter\u001b[39;49m\u001b[38;5;124;43m'\u001b[39;49m\u001b[43m,\u001b[49m\u001b[43m \u001b[49m\u001b[38;5;124;43m'\u001b[39;49m\u001b[38;5;124;43mCashew Butter\u001b[39;49m\u001b[38;5;124;43m'\u001b[39;49m\u001b[43m]\u001b[49m\u001b[43m)\u001b[49m\n",
      "File \u001b[0;32m~/.local/lib/python3.8/site-packages/pandas/core/frame.py:722\u001b[0m, in \u001b[0;36mDataFrame.__init__\u001b[0;34m(self, data, index, columns, dtype, copy)\u001b[0m\n\u001b[1;32m    712\u001b[0m         mgr \u001b[38;5;241m=\u001b[39m dict_to_mgr(\n\u001b[1;32m    713\u001b[0m             \u001b[38;5;66;03m# error: Item \"ndarray\" of \"Union[ndarray, Series, Index]\" has no\u001b[39;00m\n\u001b[1;32m    714\u001b[0m             \u001b[38;5;66;03m# attribute \"name\"\u001b[39;00m\n\u001b[0;32m   (...)\u001b[0m\n\u001b[1;32m    719\u001b[0m             typ\u001b[38;5;241m=\u001b[39mmanager,\n\u001b[1;32m    720\u001b[0m         )\n\u001b[1;32m    721\u001b[0m     \u001b[38;5;28;01melse\u001b[39;00m:\n\u001b[0;32m--> 722\u001b[0m         mgr \u001b[38;5;241m=\u001b[39m \u001b[43mndarray_to_mgr\u001b[49m\u001b[43m(\u001b[49m\n\u001b[1;32m    723\u001b[0m \u001b[43m            \u001b[49m\u001b[43mdata\u001b[49m\u001b[43m,\u001b[49m\n\u001b[1;32m    724\u001b[0m \u001b[43m            \u001b[49m\u001b[43mindex\u001b[49m\u001b[43m,\u001b[49m\n\u001b[1;32m    725\u001b[0m \u001b[43m            \u001b[49m\u001b[43mcolumns\u001b[49m\u001b[43m,\u001b[49m\n\u001b[1;32m    726\u001b[0m \u001b[43m            \u001b[49m\u001b[43mdtype\u001b[49m\u001b[38;5;241;43m=\u001b[39;49m\u001b[43mdtype\u001b[49m\u001b[43m,\u001b[49m\n\u001b[1;32m    727\u001b[0m \u001b[43m            \u001b[49m\u001b[43mcopy\u001b[49m\u001b[38;5;241;43m=\u001b[39;49m\u001b[43mcopy\u001b[49m\u001b[43m,\u001b[49m\n\u001b[1;32m    728\u001b[0m \u001b[43m            \u001b[49m\u001b[43mtyp\u001b[49m\u001b[38;5;241;43m=\u001b[39;49m\u001b[43mmanager\u001b[49m\u001b[43m,\u001b[49m\n\u001b[1;32m    729\u001b[0m \u001b[43m        \u001b[49m\u001b[43m)\u001b[49m\n\u001b[1;32m    731\u001b[0m \u001b[38;5;66;03m# For data is list-like, or Iterable (will consume into list)\u001b[39;00m\n\u001b[1;32m    732\u001b[0m \u001b[38;5;28;01melif\u001b[39;00m is_list_like(data):\n",
      "File \u001b[0;32m~/.local/lib/python3.8/site-packages/pandas/core/internals/construction.py:349\u001b[0m, in \u001b[0;36mndarray_to_mgr\u001b[0;34m(values, index, columns, dtype, copy, typ)\u001b[0m\n\u001b[1;32m    344\u001b[0m \u001b[38;5;66;03m# _prep_ndarraylike ensures that values.ndim == 2 at this point\u001b[39;00m\n\u001b[1;32m    345\u001b[0m index, columns \u001b[38;5;241m=\u001b[39m _get_axes(\n\u001b[1;32m    346\u001b[0m     values\u001b[38;5;241m.\u001b[39mshape[\u001b[38;5;241m0\u001b[39m], values\u001b[38;5;241m.\u001b[39mshape[\u001b[38;5;241m1\u001b[39m], index\u001b[38;5;241m=\u001b[39mindex, columns\u001b[38;5;241m=\u001b[39mcolumns\n\u001b[1;32m    347\u001b[0m )\n\u001b[0;32m--> 349\u001b[0m \u001b[43m_check_values_indices_shape_match\u001b[49m\u001b[43m(\u001b[49m\u001b[43mvalues\u001b[49m\u001b[43m,\u001b[49m\u001b[43m \u001b[49m\u001b[43mindex\u001b[49m\u001b[43m,\u001b[49m\u001b[43m \u001b[49m\u001b[43mcolumns\u001b[49m\u001b[43m)\u001b[49m\n\u001b[1;32m    351\u001b[0m \u001b[38;5;28;01mif\u001b[39;00m typ \u001b[38;5;241m==\u001b[39m \u001b[38;5;124m\"\u001b[39m\u001b[38;5;124marray\u001b[39m\u001b[38;5;124m\"\u001b[39m:\n\u001b[1;32m    353\u001b[0m     \u001b[38;5;28;01mif\u001b[39;00m \u001b[38;5;28missubclass\u001b[39m(values\u001b[38;5;241m.\u001b[39mdtype\u001b[38;5;241m.\u001b[39mtype, \u001b[38;5;28mstr\u001b[39m):\n",
      "File \u001b[0;32m~/.local/lib/python3.8/site-packages/pandas/core/internals/construction.py:420\u001b[0m, in \u001b[0;36m_check_values_indices_shape_match\u001b[0;34m(values, index, columns)\u001b[0m\n\u001b[1;32m    418\u001b[0m passed \u001b[38;5;241m=\u001b[39m values\u001b[38;5;241m.\u001b[39mshape\n\u001b[1;32m    419\u001b[0m implied \u001b[38;5;241m=\u001b[39m (\u001b[38;5;28mlen\u001b[39m(index), \u001b[38;5;28mlen\u001b[39m(columns))\n\u001b[0;32m--> 420\u001b[0m \u001b[38;5;28;01mraise\u001b[39;00m \u001b[38;5;167;01mValueError\u001b[39;00m(\u001b[38;5;124mf\u001b[39m\u001b[38;5;124m\"\u001b[39m\u001b[38;5;124mShape of passed values is \u001b[39m\u001b[38;5;132;01m{\u001b[39;00mpassed\u001b[38;5;132;01m}\u001b[39;00m\u001b[38;5;124m, indices imply \u001b[39m\u001b[38;5;132;01m{\u001b[39;00mimplied\u001b[38;5;132;01m}\u001b[39;00m\u001b[38;5;124m\"\u001b[39m)\n",
      "\u001b[0;31mValueError\u001b[0m: Shape of passed values is (3, 1), indices imply (1, 3)"
     ]
    }
   ],
   "source": [
    "#not worked because of array shape different\n",
    "price_np = np.array([10,8,14])\n",
    "price  = pd.DataFrame(price_np,index = ['price'], columns=['Almond Butter', 'Peanut Butter', 'Cashew Butter'])"
   ]
  },
  {
   "cell_type": "code",
   "execution_count": 78,
   "id": "3f25ea8b",
   "metadata": {},
   "outputs": [
    {
     "data": {
      "text/plain": [
       "((1, 3), (3,))"
      ]
     },
     "execution_count": 78,
     "metadata": {},
     "output_type": "execute_result"
    }
   ],
   "source": [
    "price_np.reshape(1,3).shape, price_np.shape"
   ]
  },
  {
   "cell_type": "code",
   "execution_count": 79,
   "id": "3ae20c3c",
   "metadata": {},
   "outputs": [],
   "source": [
    "price  = pd.DataFrame(price_np.reshape(1,3),index = ['price'], columns=['Almond Butter', 'Peanut Butter', 'Cashew Butter'])"
   ]
  },
  {
   "cell_type": "code",
   "execution_count": 80,
   "id": "aa6e493b",
   "metadata": {},
   "outputs": [
    {
     "data": {
      "text/html": [
       "<div>\n",
       "<style scoped>\n",
       "    .dataframe tbody tr th:only-of-type {\n",
       "        vertical-align: middle;\n",
       "    }\n",
       "\n",
       "    .dataframe tbody tr th {\n",
       "        vertical-align: top;\n",
       "    }\n",
       "\n",
       "    .dataframe thead th {\n",
       "        text-align: right;\n",
       "    }\n",
       "</style>\n",
       "<table border=\"1\" class=\"dataframe\">\n",
       "  <thead>\n",
       "    <tr style=\"text-align: right;\">\n",
       "      <th></th>\n",
       "      <th>Almond Butter</th>\n",
       "      <th>Peanut Butter</th>\n",
       "      <th>Cashew Butter</th>\n",
       "    </tr>\n",
       "  </thead>\n",
       "  <tbody>\n",
       "    <tr>\n",
       "      <th>price</th>\n",
       "      <td>10</td>\n",
       "      <td>8</td>\n",
       "      <td>14</td>\n",
       "    </tr>\n",
       "  </tbody>\n",
       "</table>\n",
       "</div>"
      ],
      "text/plain": [
       "       Almond Butter  Peanut Butter  Cashew Butter\n",
       "price             10              8             14"
      ]
     },
     "execution_count": 80,
     "metadata": {},
     "output_type": "execute_result"
    }
   ],
   "source": [
    "price"
   ]
  },
  {
   "cell_type": "code",
   "execution_count": 81,
   "id": "5e50eb94",
   "metadata": {},
   "outputs": [
    {
     "data": {
      "text/html": [
       "<div>\n",
       "<style scoped>\n",
       "    .dataframe tbody tr th:only-of-type {\n",
       "        vertical-align: middle;\n",
       "    }\n",
       "\n",
       "    .dataframe tbody tr th {\n",
       "        vertical-align: top;\n",
       "    }\n",
       "\n",
       "    .dataframe thead th {\n",
       "        text-align: right;\n",
       "    }\n",
       "</style>\n",
       "<table border=\"1\" class=\"dataframe\">\n",
       "  <thead>\n",
       "    <tr style=\"text-align: right;\">\n",
       "      <th></th>\n",
       "      <th>Almond Butter</th>\n",
       "      <th>Peanut Butter</th>\n",
       "      <th>Cashew Butter</th>\n",
       "    </tr>\n",
       "  </thead>\n",
       "  <tbody>\n",
       "    <tr>\n",
       "      <th>mon</th>\n",
       "      <td>15</td>\n",
       "      <td>6</td>\n",
       "      <td>2</td>\n",
       "    </tr>\n",
       "    <tr>\n",
       "      <th>tue</th>\n",
       "      <td>9</td>\n",
       "      <td>9</td>\n",
       "      <td>19</td>\n",
       "    </tr>\n",
       "    <tr>\n",
       "      <th>wed</th>\n",
       "      <td>10</td>\n",
       "      <td>8</td>\n",
       "      <td>14</td>\n",
       "    </tr>\n",
       "    <tr>\n",
       "      <th>thur</th>\n",
       "      <td>9</td>\n",
       "      <td>5</td>\n",
       "      <td>19</td>\n",
       "    </tr>\n",
       "    <tr>\n",
       "      <th>fri</th>\n",
       "      <td>13</td>\n",
       "      <td>7</td>\n",
       "      <td>11</td>\n",
       "    </tr>\n",
       "  </tbody>\n",
       "</table>\n",
       "</div>"
      ],
      "text/plain": [
       "      Almond Butter  Peanut Butter  Cashew Butter\n",
       "mon              15              6              2\n",
       "tue               9              9             19\n",
       "wed              10              8             14\n",
       "thur              9              5             19\n",
       "fri              13              7             11"
      ]
     },
     "execution_count": 81,
     "metadata": {},
     "output_type": "execute_result"
    }
   ],
   "source": [
    "sales"
   ]
  },
  {
   "cell_type": "code",
   "execution_count": 84,
   "id": "245dd123",
   "metadata": {},
   "outputs": [
    {
     "data": {
      "text/plain": [
       "((5, 3), (3,))"
      ]
     },
     "execution_count": 84,
     "metadata": {},
     "output_type": "execute_result"
    }
   ],
   "source": [
    "sales_np.shape,price_np.shape"
   ]
  },
  {
   "cell_type": "code",
   "execution_count": 82,
   "id": "78fe6738",
   "metadata": {},
   "outputs": [],
   "source": [
    "total_sales = sales_np.dot(price_np)"
   ]
  },
  {
   "cell_type": "code",
   "execution_count": 83,
   "id": "d9aa28ba",
   "metadata": {},
   "outputs": [
    {
     "data": {
      "text/plain": [
       "array([226, 428, 360, 396, 340])"
      ]
     },
     "execution_count": 83,
     "metadata": {},
     "output_type": "execute_result"
    }
   ],
   "source": [
    "total_sales"
   ]
  },
  {
   "cell_type": "code",
   "execution_count": 89,
   "id": "6a0d3c65",
   "metadata": {},
   "outputs": [],
   "source": [
    "# tot = price_np.dot(sales_np.T)\n",
    "# total_sales = sales_np.dot(price_np.reshape(3,1))\n",
    "# total_sales"
   ]
  },
  {
   "cell_type": "code",
   "execution_count": 91,
   "id": "94010025",
   "metadata": {},
   "outputs": [],
   "source": [
    "# tot"
   ]
  },
  {
   "cell_type": "markdown",
   "id": "a0fd0931",
   "metadata": {},
   "source": [
    "### One method"
   ]
  },
  {
   "cell_type": "code",
   "execution_count": 92,
   "id": "9b3d45f4",
   "metadata": {},
   "outputs": [],
   "source": [
    "sales['total sales'] = total_sales"
   ]
  },
  {
   "cell_type": "code",
   "execution_count": 93,
   "id": "9b7133b7",
   "metadata": {},
   "outputs": [
    {
     "data": {
      "text/html": [
       "<div>\n",
       "<style scoped>\n",
       "    .dataframe tbody tr th:only-of-type {\n",
       "        vertical-align: middle;\n",
       "    }\n",
       "\n",
       "    .dataframe tbody tr th {\n",
       "        vertical-align: top;\n",
       "    }\n",
       "\n",
       "    .dataframe thead th {\n",
       "        text-align: right;\n",
       "    }\n",
       "</style>\n",
       "<table border=\"1\" class=\"dataframe\">\n",
       "  <thead>\n",
       "    <tr style=\"text-align: right;\">\n",
       "      <th></th>\n",
       "      <th>Almond Butter</th>\n",
       "      <th>Peanut Butter</th>\n",
       "      <th>Cashew Butter</th>\n",
       "      <th>total sales</th>\n",
       "    </tr>\n",
       "  </thead>\n",
       "  <tbody>\n",
       "    <tr>\n",
       "      <th>mon</th>\n",
       "      <td>15</td>\n",
       "      <td>6</td>\n",
       "      <td>2</td>\n",
       "      <td>226</td>\n",
       "    </tr>\n",
       "    <tr>\n",
       "      <th>tue</th>\n",
       "      <td>9</td>\n",
       "      <td>9</td>\n",
       "      <td>19</td>\n",
       "      <td>428</td>\n",
       "    </tr>\n",
       "    <tr>\n",
       "      <th>wed</th>\n",
       "      <td>10</td>\n",
       "      <td>8</td>\n",
       "      <td>14</td>\n",
       "      <td>360</td>\n",
       "    </tr>\n",
       "    <tr>\n",
       "      <th>thur</th>\n",
       "      <td>9</td>\n",
       "      <td>5</td>\n",
       "      <td>19</td>\n",
       "      <td>396</td>\n",
       "    </tr>\n",
       "    <tr>\n",
       "      <th>fri</th>\n",
       "      <td>13</td>\n",
       "      <td>7</td>\n",
       "      <td>11</td>\n",
       "      <td>340</td>\n",
       "    </tr>\n",
       "  </tbody>\n",
       "</table>\n",
       "</div>"
      ],
      "text/plain": [
       "      Almond Butter  Peanut Butter  Cashew Butter  total sales\n",
       "mon              15              6              2          226\n",
       "tue               9              9             19          428\n",
       "wed              10              8             14          360\n",
       "thur              9              5             19          396\n",
       "fri              13              7             11          340"
      ]
     },
     "execution_count": 93,
     "metadata": {},
     "output_type": "execute_result"
    }
   ],
   "source": [
    "sales"
   ]
  },
  {
   "cell_type": "code",
   "execution_count": null,
   "id": "a6f30de4",
   "metadata": {},
   "outputs": [],
   "source": []
  },
  {
   "cell_type": "markdown",
   "id": "c5a9f11a",
   "metadata": {},
   "source": [
    "### another method"
   ]
  },
  {
   "cell_type": "code",
   "execution_count": 96,
   "id": "8cca573e",
   "metadata": {},
   "outputs": [],
   "source": [
    "daily_sales = sales.dot(price.T)"
   ]
  },
  {
   "cell_type": "code",
   "execution_count": 100,
   "id": "784e59d5",
   "metadata": {},
   "outputs": [
    {
     "data": {
      "text/html": [
       "<div>\n",
       "<style scoped>\n",
       "    .dataframe tbody tr th:only-of-type {\n",
       "        vertical-align: middle;\n",
       "    }\n",
       "\n",
       "    .dataframe tbody tr th {\n",
       "        vertical-align: top;\n",
       "    }\n",
       "\n",
       "    .dataframe thead th {\n",
       "        text-align: right;\n",
       "    }\n",
       "</style>\n",
       "<table border=\"1\" class=\"dataframe\">\n",
       "  <thead>\n",
       "    <tr style=\"text-align: right;\">\n",
       "      <th></th>\n",
       "      <th>mon</th>\n",
       "      <th>tue</th>\n",
       "      <th>wed</th>\n",
       "      <th>thur</th>\n",
       "      <th>fri</th>\n",
       "    </tr>\n",
       "  </thead>\n",
       "  <tbody>\n",
       "    <tr>\n",
       "      <th>price</th>\n",
       "      <td>226</td>\n",
       "      <td>428</td>\n",
       "      <td>360</td>\n",
       "      <td>396</td>\n",
       "      <td>340</td>\n",
       "    </tr>\n",
       "  </tbody>\n",
       "</table>\n",
       "</div>"
      ],
      "text/plain": [
       "       mon  tue  wed  thur  fri\n",
       "price  226  428  360   396  340"
      ]
     },
     "execution_count": 100,
     "metadata": {},
     "output_type": "execute_result"
    }
   ],
   "source": [
    "daily_sales.T\n"
   ]
  },
  {
   "cell_type": "code",
   "execution_count": 101,
   "id": "d8af7693",
   "metadata": {},
   "outputs": [
    {
     "data": {
      "text/html": [
       "<div>\n",
       "<style scoped>\n",
       "    .dataframe tbody tr th:only-of-type {\n",
       "        vertical-align: middle;\n",
       "    }\n",
       "\n",
       "    .dataframe tbody tr th {\n",
       "        vertical-align: top;\n",
       "    }\n",
       "\n",
       "    .dataframe thead th {\n",
       "        text-align: right;\n",
       "    }\n",
       "</style>\n",
       "<table border=\"1\" class=\"dataframe\">\n",
       "  <thead>\n",
       "    <tr style=\"text-align: right;\">\n",
       "      <th></th>\n",
       "      <th>price</th>\n",
       "    </tr>\n",
       "  </thead>\n",
       "  <tbody>\n",
       "    <tr>\n",
       "      <th>mon</th>\n",
       "      <td>226</td>\n",
       "    </tr>\n",
       "    <tr>\n",
       "      <th>tue</th>\n",
       "      <td>428</td>\n",
       "    </tr>\n",
       "    <tr>\n",
       "      <th>wed</th>\n",
       "      <td>360</td>\n",
       "    </tr>\n",
       "    <tr>\n",
       "      <th>thur</th>\n",
       "      <td>396</td>\n",
       "    </tr>\n",
       "    <tr>\n",
       "      <th>fri</th>\n",
       "      <td>340</td>\n",
       "    </tr>\n",
       "  </tbody>\n",
       "</table>\n",
       "</div>"
      ],
      "text/plain": [
       "      price\n",
       "mon     226\n",
       "tue     428\n",
       "wed     360\n",
       "thur    396\n",
       "fri     340"
      ]
     },
     "execution_count": 101,
     "metadata": {},
     "output_type": "execute_result"
    }
   ],
   "source": [
    "daily_sales\n"
   ]
  },
  {
   "cell_type": "code",
   "execution_count": 102,
   "id": "d4ece0cf",
   "metadata": {},
   "outputs": [
    {
     "data": {
      "text/html": [
       "<div>\n",
       "<style scoped>\n",
       "    .dataframe tbody tr th:only-of-type {\n",
       "        vertical-align: middle;\n",
       "    }\n",
       "\n",
       "    .dataframe tbody tr th {\n",
       "        vertical-align: top;\n",
       "    }\n",
       "\n",
       "    .dataframe thead th {\n",
       "        text-align: right;\n",
       "    }\n",
       "</style>\n",
       "<table border=\"1\" class=\"dataframe\">\n",
       "  <thead>\n",
       "    <tr style=\"text-align: right;\">\n",
       "      <th></th>\n",
       "      <th>Almond Butter</th>\n",
       "      <th>Peanut Butter</th>\n",
       "      <th>Cashew Butter</th>\n",
       "    </tr>\n",
       "  </thead>\n",
       "  <tbody>\n",
       "    <tr>\n",
       "      <th>mon</th>\n",
       "      <td>15</td>\n",
       "      <td>6</td>\n",
       "      <td>2</td>\n",
       "    </tr>\n",
       "    <tr>\n",
       "      <th>tue</th>\n",
       "      <td>9</td>\n",
       "      <td>9</td>\n",
       "      <td>19</td>\n",
       "    </tr>\n",
       "    <tr>\n",
       "      <th>wed</th>\n",
       "      <td>10</td>\n",
       "      <td>8</td>\n",
       "      <td>14</td>\n",
       "    </tr>\n",
       "    <tr>\n",
       "      <th>thur</th>\n",
       "      <td>9</td>\n",
       "      <td>5</td>\n",
       "      <td>19</td>\n",
       "    </tr>\n",
       "    <tr>\n",
       "      <th>fri</th>\n",
       "      <td>13</td>\n",
       "      <td>7</td>\n",
       "      <td>11</td>\n",
       "    </tr>\n",
       "  </tbody>\n",
       "</table>\n",
       "</div>"
      ],
      "text/plain": [
       "      Almond Butter  Peanut Butter  Cashew Butter\n",
       "mon              15              6              2\n",
       "tue               9              9             19\n",
       "wed              10              8             14\n",
       "thur              9              5             19\n",
       "fri              13              7             11"
      ]
     },
     "execution_count": 102,
     "metadata": {},
     "output_type": "execute_result"
    }
   ],
   "source": [
    "sales"
   ]
  },
  {
   "cell_type": "code",
   "execution_count": 103,
   "id": "92a5573c",
   "metadata": {},
   "outputs": [],
   "source": [
    "sales[\"total sales\"] = daily_sales"
   ]
  },
  {
   "cell_type": "code",
   "execution_count": 104,
   "id": "25365277",
   "metadata": {},
   "outputs": [
    {
     "data": {
      "text/html": [
       "<div>\n",
       "<style scoped>\n",
       "    .dataframe tbody tr th:only-of-type {\n",
       "        vertical-align: middle;\n",
       "    }\n",
       "\n",
       "    .dataframe tbody tr th {\n",
       "        vertical-align: top;\n",
       "    }\n",
       "\n",
       "    .dataframe thead th {\n",
       "        text-align: right;\n",
       "    }\n",
       "</style>\n",
       "<table border=\"1\" class=\"dataframe\">\n",
       "  <thead>\n",
       "    <tr style=\"text-align: right;\">\n",
       "      <th></th>\n",
       "      <th>Almond Butter</th>\n",
       "      <th>Peanut Butter</th>\n",
       "      <th>Cashew Butter</th>\n",
       "      <th>total sales</th>\n",
       "    </tr>\n",
       "  </thead>\n",
       "  <tbody>\n",
       "    <tr>\n",
       "      <th>mon</th>\n",
       "      <td>15</td>\n",
       "      <td>6</td>\n",
       "      <td>2</td>\n",
       "      <td>226</td>\n",
       "    </tr>\n",
       "    <tr>\n",
       "      <th>tue</th>\n",
       "      <td>9</td>\n",
       "      <td>9</td>\n",
       "      <td>19</td>\n",
       "      <td>428</td>\n",
       "    </tr>\n",
       "    <tr>\n",
       "      <th>wed</th>\n",
       "      <td>10</td>\n",
       "      <td>8</td>\n",
       "      <td>14</td>\n",
       "      <td>360</td>\n",
       "    </tr>\n",
       "    <tr>\n",
       "      <th>thur</th>\n",
       "      <td>9</td>\n",
       "      <td>5</td>\n",
       "      <td>19</td>\n",
       "      <td>396</td>\n",
       "    </tr>\n",
       "    <tr>\n",
       "      <th>fri</th>\n",
       "      <td>13</td>\n",
       "      <td>7</td>\n",
       "      <td>11</td>\n",
       "      <td>340</td>\n",
       "    </tr>\n",
       "  </tbody>\n",
       "</table>\n",
       "</div>"
      ],
      "text/plain": [
       "      Almond Butter  Peanut Butter  Cashew Butter  total sales\n",
       "mon              15              6              2          226\n",
       "tue               9              9             19          428\n",
       "wed              10              8             14          360\n",
       "thur              9              5             19          396\n",
       "fri              13              7             11          340"
      ]
     },
     "execution_count": 104,
     "metadata": {},
     "output_type": "execute_result"
    }
   ],
   "source": [
    "sales"
   ]
  },
  {
   "cell_type": "code",
   "execution_count": 105,
   "id": "49d4183d",
   "metadata": {},
   "outputs": [
    {
     "data": {
      "text/html": [
       "<div>\n",
       "<style scoped>\n",
       "    .dataframe tbody tr th:only-of-type {\n",
       "        vertical-align: middle;\n",
       "    }\n",
       "\n",
       "    .dataframe tbody tr th {\n",
       "        vertical-align: top;\n",
       "    }\n",
       "\n",
       "    .dataframe thead th {\n",
       "        text-align: right;\n",
       "    }\n",
       "</style>\n",
       "<table border=\"1\" class=\"dataframe\">\n",
       "  <thead>\n",
       "    <tr style=\"text-align: right;\">\n",
       "      <th></th>\n",
       "      <th>Almond Butter</th>\n",
       "      <th>Peanut Butter</th>\n",
       "      <th>Cashew Butter</th>\n",
       "    </tr>\n",
       "  </thead>\n",
       "  <tbody>\n",
       "    <tr>\n",
       "      <th>price</th>\n",
       "      <td>10</td>\n",
       "      <td>8</td>\n",
       "      <td>14</td>\n",
       "    </tr>\n",
       "  </tbody>\n",
       "</table>\n",
       "</div>"
      ],
      "text/plain": [
       "       Almond Butter  Peanut Butter  Cashew Butter\n",
       "price             10              8             14"
      ]
     },
     "execution_count": 105,
     "metadata": {},
     "output_type": "execute_result"
    }
   ],
   "source": [
    "price"
   ]
  },
  {
   "cell_type": "code",
   "execution_count": null,
   "id": "d0f8b912",
   "metadata": {},
   "outputs": [],
   "source": []
  },
  {
   "cell_type": "code",
   "execution_count": null,
   "id": "87037a53",
   "metadata": {},
   "outputs": [],
   "source": []
  },
  {
   "cell_type": "markdown",
   "id": "ccdbcb44",
   "metadata": {},
   "source": [
    "## Comparision operators"
   ]
  },
  {
   "cell_type": "code",
   "execution_count": 106,
   "id": "332c12ac",
   "metadata": {},
   "outputs": [],
   "source": [
    "a1 = np.array([1,2,3])\n",
    "a2 = np.random.randint(1,10,(2,3))\n"
   ]
  },
  {
   "cell_type": "code",
   "execution_count": 108,
   "id": "dccbd9d5",
   "metadata": {},
   "outputs": [
    {
     "data": {
      "text/plain": [
       "array([1, 2, 3])"
      ]
     },
     "execution_count": 108,
     "metadata": {},
     "output_type": "execute_result"
    }
   ],
   "source": [
    "a1"
   ]
  },
  {
   "cell_type": "code",
   "execution_count": 109,
   "id": "98db5242",
   "metadata": {},
   "outputs": [
    {
     "data": {
      "text/plain": [
       "array([[5, 4, 1],\n",
       "       [8, 6, 6]])"
      ]
     },
     "execution_count": 109,
     "metadata": {},
     "output_type": "execute_result"
    }
   ],
   "source": [
    "a2"
   ]
  },
  {
   "cell_type": "code",
   "execution_count": 107,
   "id": "bb30e6a8",
   "metadata": {},
   "outputs": [
    {
     "data": {
      "text/plain": [
       "array([[False, False, False],\n",
       "       [False, False, False]])"
      ]
     },
     "execution_count": 107,
     "metadata": {},
     "output_type": "execute_result"
    }
   ],
   "source": [
    "a1 == a2"
   ]
  },
  {
   "cell_type": "code",
   "execution_count": 111,
   "id": "e82fb67d",
   "metadata": {},
   "outputs": [],
   "source": [
    "bool_ary = a1< a2 "
   ]
  },
  {
   "cell_type": "code",
   "execution_count": 113,
   "id": "a7f815c4",
   "metadata": {},
   "outputs": [
    {
     "data": {
      "text/plain": [
       "array([[ True,  True, False],\n",
       "       [ True,  True,  True]])"
      ]
     },
     "execution_count": 113,
     "metadata": {},
     "output_type": "execute_result"
    }
   ],
   "source": [
    "bool_ary"
   ]
  },
  {
   "cell_type": "code",
   "execution_count": 112,
   "id": "7998fd71",
   "metadata": {},
   "outputs": [
    {
     "data": {
      "text/plain": [
       "dtype('bool')"
      ]
     },
     "execution_count": 112,
     "metadata": {},
     "output_type": "execute_result"
    }
   ],
   "source": [
    "bool_ary.dtype"
   ]
  },
  {
   "cell_type": "markdown",
   "id": "55669f30",
   "metadata": {},
   "source": [
    "### SOrting "
   ]
  },
  {
   "cell_type": "code",
   "execution_count": 116,
   "id": "2bc04167",
   "metadata": {},
   "outputs": [
    {
     "data": {
      "text/plain": [
       "array([[ 7,  8, 14, 11,  8, 10],\n",
       "       [19, 17, 16,  5, 12,  9],\n",
       "       [ 6,  9,  8,  1,  5, 12],\n",
       "       [ 9,  5,  9, 18, 15, 10],\n",
       "       [ 5, 19,  4,  5,  8,  7]])"
      ]
     },
     "execution_count": 116,
     "metadata": {},
     "output_type": "execute_result"
    }
   ],
   "source": [
    "a2 = np.random.randint(1,20,(5,6))\n",
    "\n",
    "a2"
   ]
  },
  {
   "cell_type": "code",
   "execution_count": 117,
   "id": "cac4ed32",
   "metadata": {},
   "outputs": [
    {
     "data": {
      "text/plain": [
       "array([[0, 1, 4, 5, 3, 2],\n",
       "       [3, 5, 4, 2, 1, 0],\n",
       "       [3, 4, 0, 2, 1, 5],\n",
       "       [1, 0, 2, 5, 4, 3],\n",
       "       [2, 0, 3, 5, 4, 1]])"
      ]
     },
     "execution_count": 117,
     "metadata": {},
     "output_type": "execute_result"
    }
   ],
   "source": [
    "np.argsort(a2)"
   ]
  },
  {
   "cell_type": "code",
   "execution_count": 118,
   "id": "f752297b",
   "metadata": {},
   "outputs": [
    {
     "data": {
      "text/plain": [
       "array([0, 1, 2])"
      ]
     },
     "execution_count": 118,
     "metadata": {},
     "output_type": "execute_result"
    }
   ],
   "source": [
    "np.argsort(a1)"
   ]
  },
  {
   "cell_type": "code",
   "execution_count": 121,
   "id": "2d5b0622",
   "metadata": {},
   "outputs": [
    {
     "data": {
      "text/plain": [
       "array([1, 4, 1, 3, 3, 2])"
      ]
     },
     "execution_count": 121,
     "metadata": {},
     "output_type": "execute_result"
    }
   ],
   "source": [
    "np.argmax(a2, axis=0)"
   ]
  },
  {
   "cell_type": "code",
   "execution_count": 122,
   "id": "8d33326f",
   "metadata": {},
   "outputs": [
    {
     "data": {
      "text/plain": [
       "array([2, 0, 5, 3, 1])"
      ]
     },
     "execution_count": 122,
     "metadata": {},
     "output_type": "execute_result"
    }
   ],
   "source": [
    "np.argmax(a2, axis =1)"
   ]
  },
  {
   "cell_type": "code",
   "execution_count": null,
   "id": "232a13af",
   "metadata": {},
   "outputs": [],
   "source": []
  },
  {
   "cell_type": "markdown",
   "id": "529c9068",
   "metadata": {},
   "source": [
    "\n",
    "## Importing images"
   ]
  },
  {
   "cell_type": "markdown",
   "id": "ce901e84",
   "metadata": {},
   "source": [
    "<img src =\"../numpy-images/panda.png\"/>"
   ]
  },
  {
   "cell_type": "code",
   "execution_count": 126,
   "id": "78e8b2e3",
   "metadata": {},
   "outputs": [],
   "source": [
    "from matplotlib.image import imread\n"
   ]
  },
  {
   "cell_type": "code",
   "execution_count": 127,
   "id": "d63963da",
   "metadata": {},
   "outputs": [],
   "source": [
    "pandas = imread(\"../numpy-images/panda.png\")"
   ]
  },
  {
   "cell_type": "code",
   "execution_count": 128,
   "id": "700814cb",
   "metadata": {
    "scrolled": true
   },
   "outputs": [
    {
     "data": {
      "text/plain": [
       "array([[[0.05490196, 0.10588235, 0.06666667],\n",
       "        [0.05490196, 0.10588235, 0.06666667],\n",
       "        [0.05490196, 0.10588235, 0.06666667],\n",
       "        ...,\n",
       "        [0.16470589, 0.12941177, 0.09411765],\n",
       "        [0.16470589, 0.12941177, 0.09411765],\n",
       "        [0.16470589, 0.12941177, 0.09411765]],\n",
       "\n",
       "       [[0.05490196, 0.10588235, 0.06666667],\n",
       "        [0.05490196, 0.10588235, 0.06666667],\n",
       "        [0.05490196, 0.10588235, 0.06666667],\n",
       "        ...,\n",
       "        [0.16470589, 0.12941177, 0.09411765],\n",
       "        [0.16470589, 0.12941177, 0.09411765],\n",
       "        [0.16470589, 0.12941177, 0.09411765]],\n",
       "\n",
       "       [[0.05490196, 0.10588235, 0.06666667],\n",
       "        [0.05490196, 0.10588235, 0.06666667],\n",
       "        [0.05490196, 0.10588235, 0.06666667],\n",
       "        ...,\n",
       "        [0.16470589, 0.12941177, 0.09411765],\n",
       "        [0.16470589, 0.12941177, 0.09411765],\n",
       "        [0.16470589, 0.12941177, 0.09411765]],\n",
       "\n",
       "       ...,\n",
       "\n",
       "       [[0.13333334, 0.07450981, 0.05490196],\n",
       "        [0.12156863, 0.0627451 , 0.04313726],\n",
       "        [0.10980392, 0.05098039, 0.03137255],\n",
       "        ...,\n",
       "        [0.02745098, 0.02745098, 0.03529412],\n",
       "        [0.02745098, 0.02745098, 0.03529412],\n",
       "        [0.02745098, 0.02745098, 0.03529412]],\n",
       "\n",
       "       [[0.13333334, 0.07450981, 0.05490196],\n",
       "        [0.12156863, 0.0627451 , 0.04313726],\n",
       "        [0.12156863, 0.0627451 , 0.04313726],\n",
       "        ...,\n",
       "        [0.02352941, 0.02352941, 0.03137255],\n",
       "        [0.02352941, 0.02352941, 0.03137255],\n",
       "        [0.02352941, 0.02352941, 0.03137255]],\n",
       "\n",
       "       [[0.13333334, 0.07450981, 0.05490196],\n",
       "        [0.12156863, 0.0627451 , 0.04313726],\n",
       "        [0.12156863, 0.0627451 , 0.04313726],\n",
       "        ...,\n",
       "        [0.02352941, 0.02352941, 0.03137255],\n",
       "        [0.02352941, 0.02352941, 0.03137255],\n",
       "        [0.02352941, 0.02352941, 0.03137255]]], dtype=float32)"
      ]
     },
     "execution_count": 128,
     "metadata": {},
     "output_type": "execute_result"
    }
   ],
   "source": [
    "pandas"
   ]
  },
  {
   "cell_type": "code",
   "execution_count": 140,
   "id": "b46898b8",
   "metadata": {},
   "outputs": [
    {
     "name": "stdout",
     "output_type": "stream",
     "text": [
      "Shape---->  (2330, 3500, 3)\n",
      "size---->  24465000\n",
      "ndi,---->  3\n",
      "total---->  24465000\n"
     ]
    }
   ],
   "source": [
    "print(\"Shape----> \",pandas.shape)\n",
    "print(\"size----> \",pandas.size)\n",
    "print(\"ndi,----> \",pandas.ndim)\n",
    "print(\"total----> \",np.prod(np.array(pandas.shape)))"
   ]
  },
  {
   "cell_type": "code",
   "execution_count": null,
   "id": "c9959864",
   "metadata": {},
   "outputs": [],
   "source": []
  }
 ],
 "metadata": {
  "kernelspec": {
   "display_name": "ml",
   "language": "python",
   "name": "ml"
  },
  "language_info": {
   "codemirror_mode": {
    "name": "ipython",
    "version": 3
   },
   "file_extension": ".py",
   "mimetype": "text/x-python",
   "name": "python",
   "nbconvert_exporter": "python",
   "pygments_lexer": "ipython3",
   "version": "3.8.10"
  }
 },
 "nbformat": 4,
 "nbformat_minor": 5
}
